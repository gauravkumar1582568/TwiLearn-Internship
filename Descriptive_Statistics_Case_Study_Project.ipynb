{
  "nbformat": 4,
  "nbformat_minor": 5,
  "metadata": {
    "kernelspec": {
      "display_name": "Python 3",
      "language": "python",
      "name": "python3"
    },
    "language_info": {
      "codemirror_mode": {
        "name": "ipython",
        "version": 3
      },
      "file_extension": ".py",
      "mimetype": "text/x-python",
      "name": "python",
      "nbconvert_exporter": "python",
      "pygments_lexer": "ipython3",
      "version": "3.8.5"
    },
    "colab": {
      "provenance": []
    }
  },
  "cells": [
    {
      "cell_type": "markdown",
      "source": [
        "# **Introduction**\n",
        "\n",
        "This Jupyter notebook is part of your learning experience in the study of descriptive statistics\n",
        "You will work with a simple data set that contains information about employee.\n",
        "\n",
        "In this exercise, you will perform the following tasks:\n",
        "\n",
        "1 - Load and study the data\n",
        "\n",
        "2 - Visualise the distributions of ratings and compensations\n",
        "\n",
        "3 - Subset the data based on thresholds"
      ],
      "metadata": {
        "id": "EcLTlxhbZ4xU"
      },
      "id": "EcLTlxhbZ4xU"
    },
    {
      "cell_type": "markdown",
      "source": [
        "# **Task 1** - Load and study the data\n",
        "\n",
        "Load the data and study its features such as:\n",
        "* The number of employees\n",
        "* The number of features\n",
        "* The types of features"
      ],
      "metadata": {
        "id": "fXKuQfGvacW8"
      },
      "id": "fXKuQfGvacW8"
    },
    {
      "cell_type": "code",
      "metadata": {
        "id": "_dYjYNpNpx2T"
      },
      "source": [
        "# Load \"numpy\" and \"pandas\" for manipulating numbers and dataframes\n",
        "# Load \"matplotlib.pyplot\" and \"seaborn\" for data visualisation\n",
        "\n",
        "import pandas as pd\n",
        "import numpy as np\n",
        "import matplotlib.pyplot as plt\n",
        "import seaborn as sns\n"
      ],
      "id": "_dYjYNpNpx2T",
      "execution_count": null,
      "outputs": []
    },
    {
      "cell_type": "code",
      "metadata": {
        "id": "8H_M6saZpx2U"
      },
      "source": [
        "# Read in the \"Employee Dataset\" file as a Pandas DataFrame\n",
        "\n",
        "data = pd.read_csv('/content/employee_data - employee_data.csv')\n"
      ],
      "id": "8H_M6saZpx2U",
      "execution_count": null,
      "outputs": []
    },
    {
      "cell_type": "code",
      "metadata": {
        "id": "VCkuQfd8px2U",
        "colab": {
          "base_uri": "https://localhost:8080/",
          "height": 206
        },
        "outputId": "acf43289-c96d-439c-81c3-cb9abbaca6e8"
      },
      "source": [
        "# Take a brief look at the data\n",
        "\n",
        "data.head()\n"
      ],
      "id": "VCkuQfd8px2U",
      "execution_count": null,
      "outputs": [
        {
          "output_type": "execute_result",
          "data": {
            "text/plain": [
              "   id groups  age  healthy_eating  active_lifestyle  salary\n",
              "0   0      A   36               5                 5    2297\n",
              "1   1      A   26               3                 5    1134\n",
              "2   2      A   61               8                 1    4969\n",
              "3   3      O   24               3                 6     902\n",
              "4   4      O   39               6                 2    3574"
            ],
            "text/html": [
              "\n",
              "  <div id=\"df-7e79ddc6-2efd-457c-a18b-e35f7fb0d323\">\n",
              "    <div class=\"colab-df-container\">\n",
              "      <div>\n",
              "<style scoped>\n",
              "    .dataframe tbody tr th:only-of-type {\n",
              "        vertical-align: middle;\n",
              "    }\n",
              "\n",
              "    .dataframe tbody tr th {\n",
              "        vertical-align: top;\n",
              "    }\n",
              "\n",
              "    .dataframe thead th {\n",
              "        text-align: right;\n",
              "    }\n",
              "</style>\n",
              "<table border=\"1\" class=\"dataframe\">\n",
              "  <thead>\n",
              "    <tr style=\"text-align: right;\">\n",
              "      <th></th>\n",
              "      <th>id</th>\n",
              "      <th>groups</th>\n",
              "      <th>age</th>\n",
              "      <th>healthy_eating</th>\n",
              "      <th>active_lifestyle</th>\n",
              "      <th>salary</th>\n",
              "    </tr>\n",
              "  </thead>\n",
              "  <tbody>\n",
              "    <tr>\n",
              "      <th>0</th>\n",
              "      <td>0</td>\n",
              "      <td>A</td>\n",
              "      <td>36</td>\n",
              "      <td>5</td>\n",
              "      <td>5</td>\n",
              "      <td>2297</td>\n",
              "    </tr>\n",
              "    <tr>\n",
              "      <th>1</th>\n",
              "      <td>1</td>\n",
              "      <td>A</td>\n",
              "      <td>26</td>\n",
              "      <td>3</td>\n",
              "      <td>5</td>\n",
              "      <td>1134</td>\n",
              "    </tr>\n",
              "    <tr>\n",
              "      <th>2</th>\n",
              "      <td>2</td>\n",
              "      <td>A</td>\n",
              "      <td>61</td>\n",
              "      <td>8</td>\n",
              "      <td>1</td>\n",
              "      <td>4969</td>\n",
              "    </tr>\n",
              "    <tr>\n",
              "      <th>3</th>\n",
              "      <td>3</td>\n",
              "      <td>O</td>\n",
              "      <td>24</td>\n",
              "      <td>3</td>\n",
              "      <td>6</td>\n",
              "      <td>902</td>\n",
              "    </tr>\n",
              "    <tr>\n",
              "      <th>4</th>\n",
              "      <td>4</td>\n",
              "      <td>O</td>\n",
              "      <td>39</td>\n",
              "      <td>6</td>\n",
              "      <td>2</td>\n",
              "      <td>3574</td>\n",
              "    </tr>\n",
              "  </tbody>\n",
              "</table>\n",
              "</div>\n",
              "      <button class=\"colab-df-convert\" onclick=\"convertToInteractive('df-7e79ddc6-2efd-457c-a18b-e35f7fb0d323')\"\n",
              "              title=\"Convert this dataframe to an interactive table.\"\n",
              "              style=\"display:none;\">\n",
              "        \n",
              "  <svg xmlns=\"http://www.w3.org/2000/svg\" height=\"24px\"viewBox=\"0 0 24 24\"\n",
              "       width=\"24px\">\n",
              "    <path d=\"M0 0h24v24H0V0z\" fill=\"none\"/>\n",
              "    <path d=\"M18.56 5.44l.94 2.06.94-2.06 2.06-.94-2.06-.94-.94-2.06-.94 2.06-2.06.94zm-11 1L8.5 8.5l.94-2.06 2.06-.94-2.06-.94L8.5 2.5l-.94 2.06-2.06.94zm10 10l.94 2.06.94-2.06 2.06-.94-2.06-.94-.94-2.06-.94 2.06-2.06.94z\"/><path d=\"M17.41 7.96l-1.37-1.37c-.4-.4-.92-.59-1.43-.59-.52 0-1.04.2-1.43.59L10.3 9.45l-7.72 7.72c-.78.78-.78 2.05 0 2.83L4 21.41c.39.39.9.59 1.41.59.51 0 1.02-.2 1.41-.59l7.78-7.78 2.81-2.81c.8-.78.8-2.07 0-2.86zM5.41 20L4 18.59l7.72-7.72 1.47 1.35L5.41 20z\"/>\n",
              "  </svg>\n",
              "      </button>\n",
              "      \n",
              "  <style>\n",
              "    .colab-df-container {\n",
              "      display:flex;\n",
              "      flex-wrap:wrap;\n",
              "      gap: 12px;\n",
              "    }\n",
              "\n",
              "    .colab-df-convert {\n",
              "      background-color: #E8F0FE;\n",
              "      border: none;\n",
              "      border-radius: 50%;\n",
              "      cursor: pointer;\n",
              "      display: none;\n",
              "      fill: #1967D2;\n",
              "      height: 32px;\n",
              "      padding: 0 0 0 0;\n",
              "      width: 32px;\n",
              "    }\n",
              "\n",
              "    .colab-df-convert:hover {\n",
              "      background-color: #E2EBFA;\n",
              "      box-shadow: 0px 1px 2px rgba(60, 64, 67, 0.3), 0px 1px 3px 1px rgba(60, 64, 67, 0.15);\n",
              "      fill: #174EA6;\n",
              "    }\n",
              "\n",
              "    [theme=dark] .colab-df-convert {\n",
              "      background-color: #3B4455;\n",
              "      fill: #D2E3FC;\n",
              "    }\n",
              "\n",
              "    [theme=dark] .colab-df-convert:hover {\n",
              "      background-color: #434B5C;\n",
              "      box-shadow: 0px 1px 3px 1px rgba(0, 0, 0, 0.15);\n",
              "      filter: drop-shadow(0px 1px 2px rgba(0, 0, 0, 0.3));\n",
              "      fill: #FFFFFF;\n",
              "    }\n",
              "  </style>\n",
              "\n",
              "      <script>\n",
              "        const buttonEl =\n",
              "          document.querySelector('#df-7e79ddc6-2efd-457c-a18b-e35f7fb0d323 button.colab-df-convert');\n",
              "        buttonEl.style.display =\n",
              "          google.colab.kernel.accessAllowed ? 'block' : 'none';\n",
              "\n",
              "        async function convertToInteractive(key) {\n",
              "          const element = document.querySelector('#df-7e79ddc6-2efd-457c-a18b-e35f7fb0d323');\n",
              "          const dataTable =\n",
              "            await google.colab.kernel.invokeFunction('convertToInteractive',\n",
              "                                                     [key], {});\n",
              "          if (!dataTable) return;\n",
              "\n",
              "          const docLinkHtml = 'Like what you see? Visit the ' +\n",
              "            '<a target=\"_blank\" href=https://colab.research.google.com/notebooks/data_table.ipynb>data table notebook</a>'\n",
              "            + ' to learn more about interactive tables.';\n",
              "          element.innerHTML = '';\n",
              "          dataTable['output_type'] = 'display_data';\n",
              "          await google.colab.output.renderOutput(dataTable, element);\n",
              "          const docLink = document.createElement('div');\n",
              "          docLink.innerHTML = docLinkHtml;\n",
              "          element.appendChild(docLink);\n",
              "        }\n",
              "      </script>\n",
              "    </div>\n",
              "  </div>\n",
              "  "
            ]
          },
          "metadata": {},
          "execution_count": 72
        }
      ]
    },
    {
      "cell_type": "code",
      "metadata": {
        "id": "BGB3klFwpx2W",
        "colab": {
          "base_uri": "https://localhost:8080/"
        },
        "outputId": "5ad1fe24-c3d1-4b02-9d70-00696bd7d96b"
      },
      "source": [
        "# Get the dimensions of the dataframe\n",
        "\n",
        "data.shape\n"
      ],
      "id": "BGB3klFwpx2W",
      "execution_count": null,
      "outputs": [
        {
          "output_type": "execute_result",
          "data": {
            "text/plain": [
              "(50, 6)"
            ]
          },
          "metadata": {},
          "execution_count": 73
        }
      ]
    },
    {
      "cell_type": "code",
      "metadata": {
        "id": "M0zY7h_hpx2X",
        "colab": {
          "base_uri": "https://localhost:8080/"
        },
        "outputId": "dcf93abe-fe71-4dc4-b736-f44d7fa815b3"
      },
      "source": [
        "# Get the row names of the dataframe\n",
        "\n",
        "data.index\n"
      ],
      "id": "M0zY7h_hpx2X",
      "execution_count": null,
      "outputs": [
        {
          "output_type": "execute_result",
          "data": {
            "text/plain": [
              "RangeIndex(start=0, stop=50, step=1)"
            ]
          },
          "metadata": {},
          "execution_count": 74
        }
      ]
    },
    {
      "cell_type": "code",
      "metadata": {
        "id": "JoQ4k8q1px2X",
        "colab": {
          "base_uri": "https://localhost:8080/"
        },
        "outputId": "e6da3716-fd11-47b6-ae26-8691d11a2d82"
      },
      "source": [
        "# Get the column names of the dataframe\n",
        "\n",
        "data.columns\n"
      ],
      "id": "JoQ4k8q1px2X",
      "execution_count": null,
      "outputs": [
        {
          "output_type": "execute_result",
          "data": {
            "text/plain": [
              "Index(['id', 'groups', 'age', 'healthy_eating', 'active_lifestyle', 'salary'], dtype='object')"
            ]
          },
          "metadata": {},
          "execution_count": 75
        }
      ]
    },
    {
      "cell_type": "code",
      "metadata": {
        "id": "OGFuXa_dpx2X",
        "colab": {
          "base_uri": "https://localhost:8080/"
        },
        "outputId": "3060a971-dd7f-42c5-c6d5-1ed17099e8b1"
      },
      "source": [
        "# Look at basic information about the dataframe\n",
        "\n",
        "data.info()\n"
      ],
      "id": "OGFuXa_dpx2X",
      "execution_count": null,
      "outputs": [
        {
          "output_type": "stream",
          "name": "stdout",
          "text": [
            "<class 'pandas.core.frame.DataFrame'>\n",
            "RangeIndex: 50 entries, 0 to 49\n",
            "Data columns (total 6 columns):\n",
            " #   Column            Non-Null Count  Dtype \n",
            "---  ------            --------------  ----- \n",
            " 0   id                50 non-null     int64 \n",
            " 1   groups            50 non-null     object\n",
            " 2   age               50 non-null     int64 \n",
            " 3   healthy_eating    50 non-null     int64 \n",
            " 4   active_lifestyle  50 non-null     int64 \n",
            " 5   salary            50 non-null     int64 \n",
            "dtypes: int64(5), object(1)\n",
            "memory usage: 2.5+ KB\n"
          ]
        }
      ]
    },
    {
      "cell_type": "markdown",
      "source": [
        "# **Observations from Task 1**\n",
        "\n",
        "There are 50 rows and 6 columns in the data.\n",
        "Each row contains the employee specifics of a certain employee in the company\n",
        "\n",
        "The features in the data set are:\n",
        "\n",
        "1. The id of the employees\n",
        "\n",
        "2. Their respective groups and age\n",
        "\n",
        "3. Their healthy_eating and active_lifestyle\n",
        "\n",
        "4. Their salary"
      ],
      "metadata": {
        "id": "efdItIOtatkR"
      },
      "id": "efdItIOtatkR"
    },
    {
      "cell_type": "code",
      "metadata": {
        "id": "e1WqDguqpx2Y"
      },
      "source": [],
      "id": "e1WqDguqpx2Y",
      "execution_count": null,
      "outputs": []
    },
    {
      "cell_type": "markdown",
      "source": [
        "# **Task 2** - Visualise the distributions of ratings and compensations\n",
        "\n",
        "We will now visualise the distributions of employee ratings and compensations\n",
        "\n",
        "We will create the following plots:\n",
        "\n",
        "* A scatter plot of employee age and employee salary, healthy_eating and active_lifestyle, health_eating and salary\n",
        "\n",
        "* A count plot of groups\n",
        "\n",
        "* A histogram of employee salary\n"
      ],
      "metadata": {
        "id": "sAQM6qHIbIst"
      },
      "id": "sAQM6qHIbIst"
    },
    {
      "cell_type": "code",
      "metadata": {
        "id": "2Hz8SIatpx2Y",
        "colab": {
          "base_uri": "https://localhost:8080/",
          "height": 350
        },
        "outputId": "8a87a68a-53fb-45b0-9e3a-09338d10fd77"
      },
      "source": [
        "# Create a scatter plot of the \"Age\" and \"Employee Salary\" features\n",
        "\n",
        "plt.figure(figsize = (10,5))\n",
        "\n",
        "sns.scatterplot(data = data ,x = 'age', y = 'salary', color = 'blue',\n",
        "             edgecolor = 'linen', alpha = 0.5)\n",
        "\n",
        "plt.title(\"Scatterplot of Employee Age v/s Employee Salary\")                         \n",
        "plt.xlabel('Employee Age')                         \n",
        "plt.ylabel('Employee Salary')\n",
        "plt.show()"
      ],
      "id": "2Hz8SIatpx2Y",
      "execution_count": null,
      "outputs": [
        {
          "output_type": "display_data",
          "data": {
            "text/plain": [
              "<Figure size 720x360 with 1 Axes>"
            ],
            "image/png": "[encoded data removed]"
          },
          "metadata": {
            "needs_background": "light"
          }
        }
      ]
    },
    {
      "cell_type": "markdown",
      "source": [
        "Observations:\n",
        "\n",
        "We observe that in general, there is a relationship between age and Salary of employee\n",
        "\n",
        "As age increases, the Salary also increases , though there are some outliers present as well"
      ],
      "metadata": {
        "id": "WrzEPjqFb7Ps"
      },
      "id": "WrzEPjqFb7Ps"
    },
    {
      "cell_type": "code",
      "metadata": {
        "id": "TPPk_1h8Istb",
        "colab": {
          "base_uri": "https://localhost:8080/",
          "height": 350
        },
        "outputId": "f1fd2312-70ec-42ec-e3af-05eb0c7d707c"
      },
      "source": [
        "# Create a scatter plot of the \"healthy_eating\" and \"active_lifestyle\" features\n",
        "\n",
        "plt.figure(figsize = (10,5))\n",
        "\n",
        "sns.scatterplot(data = data ,x = 'healthy_eating', y = 'active_lifestyle', color = 'red',\n",
        "             edgecolor = 'linen', alpha = 0.5)\n",
        "\n",
        "plt.title(\"Scatterplot of Healthy Eating v/s Active Lifestyle\")                         \n",
        "plt.xlabel('Healthy Eating')                         \n",
        "plt.ylabel('Active Lifestyle')\n",
        "plt.show()"
      ],
      "id": "TPPk_1h8Istb",
      "execution_count": null,
      "outputs": [
        {
          "output_type": "display_data",
          "data": {
            "text/plain": [
              "<Figure size 720x360 with 1 Axes>"
            ],
            "image/png": "[encoded data removed]"
          },
          "metadata": {
            "needs_background": "light"
          }
        }
      ]
    },
    {
      "cell_type": "markdown",
      "source": [
        "Observations:\n",
        "\n",
        "We observe that in general, there is a relationship between healthy_eating and active_lifestyle of employee\n",
        "\n",
        "As healthy_eating increases, the active_lifestyle also increases"
      ],
      "metadata": {
        "id": "NCDBrJL0cD_K"
      },
      "id": "NCDBrJL0cD_K"
    },
    {
      "cell_type": "code",
      "metadata": {
        "id": "96uByWqyJ6xj",
        "colab": {
          "base_uri": "https://localhost:8080/",
          "height": 350
        },
        "outputId": "30e8e686-164a-4ead-d26a-dccccd1be0c3"
      },
      "source": [
        "# Create a scatter plot of the \"healthy_eating\" and \"salary\" features\n",
        "\n",
        "plt.figure(figsize = (10,5))\n",
        "\n",
        "sns.scatterplot(data = data ,x = 'healthy_eating', y = 'salary', color = 'k',\n",
        "             edgecolor = 'linen', alpha = 0.5)\n",
        "\n",
        "plt.title(\"Scatterplot of Healthy Eating v/s Salary\")                         \n",
        "plt.xlabel('Healthy Eating')                         \n",
        "plt.ylabel('Salary')\n",
        "plt.show()"
      ],
      "id": "96uByWqyJ6xj",
      "execution_count": null,
      "outputs": [
        {
          "output_type": "display_data",
          "data": {
            "text/plain": [
              "<Figure size 720x360 with 1 Axes>"
            ],
            "image/png": "[encoded data removed]"
          },
          "metadata": {
            "needs_background": "light"
          }
        }
      ]
    },
    {
      "cell_type": "markdown",
      "source": [
        "Observations:\n",
        "\n",
        "We observe that in general, there is a relationship between healthy_eating and salary of employee\n",
        "\n",
        "As healthy_eating increases, the salary also increases"
      ],
      "metadata": {
        "id": "KVittAKpcM23"
      },
      "id": "KVittAKpcM23"
    },
    {
      "cell_type": "code",
      "metadata": {
        "id": "-GWJtqVGpx2Z",
        "colab": {
          "base_uri": "https://localhost:8080/",
          "height": 350
        },
        "outputId": "ae5461dd-a7d5-4344-b8ff-572c6e49ceaa"
      },
      "source": [
        "# Create a count plot of the \"groups\" feature\n",
        "\n",
        "plt.figure(figsize = (10,5))\n",
        "\n",
        "sns.countplot(data = data ,x = 'groups', edgecolor = 'linen', alpha = 0.7)\n",
        "\n",
        "plt.title(\"Count Plot of Groups\")                         \n",
        "plt.xlabel('Groups')                         \n",
        "plt.ylabel('Count')\n",
        "plt.show()"
      ],
      "id": "-GWJtqVGpx2Z",
      "execution_count": null,
      "outputs": [
        {
          "output_type": "display_data",
          "data": {
            "text/plain": [
              "<Figure size 720x360 with 1 Axes>"
            ],
            "image/png": "[encoded data removed]"
          },
          "metadata": {
            "needs_background": "light"
          }
        }
      ]
    },
    {
      "cell_type": "markdown",
      "source": [
        "Observation:\n",
        "\n",
        "We see that most employees either belong to Group A or Group O, with group A having maximum frequency"
      ],
      "metadata": {
        "id": "Lv1r8m7IcTBR"
      },
      "id": "Lv1r8m7IcTBR"
    },
    {
      "cell_type": "code",
      "metadata": {
        "id": "Lf-zMZq4px2Z",
        "colab": {
          "base_uri": "https://localhost:8080/",
          "height": 404
        },
        "outputId": "22b003ac-9551-4cff-bc07-14c6476af4ba"
      },
      "source": [
        "# Create a histogram of the \"Salary\" feature\n",
        "\n",
        "plt.figure(figsize = (11,6))\n",
        "\n",
        "sns.histplot(data = data ,x = 'salary', color = 'orange', \n",
        "             edgecolor = 'linen', alpha = 0.7, bins = 10)\n",
        "\n",
        "plt.title(\"Histogram of Salary\")                         \n",
        "plt.xlabel('Salary')                         \n",
        "plt.ylabel('Count')\n",
        "plt.show()\n"
      ],
      "id": "Lf-zMZq4px2Z",
      "execution_count": null,
      "outputs": [
        {
          "output_type": "display_data",
          "data": {
            "text/plain": [
              "<Figure size 792x432 with 1 Axes>"
            ],
            "image/png": "[encoded data removed]"
          },
          "metadata": {
            "needs_background": "light"
          }
        }
      ]
    },
    {
      "cell_type": "markdown",
      "source": [
        "Observations:\n",
        "\n",
        "We see that the salaries are not uniform, which is not necessarily a discrepancy\n",
        "\n",
        "But we do observe that there are employees with salaries on either extremities of the histogram\n",
        "\n",
        "Based on the histogram, we can see that the count of highest earning employee is very less"
      ],
      "metadata": {
        "id": "5zrPwrjPcY3Y"
      },
      "id": "5zrPwrjPcY3Y"
    },
    {
      "cell_type": "markdown",
      "source": [
        "# **Observations from Task 2**\n",
        "\n",
        "1. Generally, as the employee's age increase, there is an increase in the employee salary\n",
        "\n",
        "2. Generally, as the employee's healthy_eating habit increase, there is an increase in the employee salary as well\n",
        "\n",
        "3. However, the employee salary values are more spread out\n",
        "\n",
        "4. An employee of healthy_eating greater than 8 can be taken as 8 only\n",
        "\n",
        "5. An employee salary less than 1000 can be considered as a lower salary"
      ],
      "metadata": {
        "id": "yxlbI5I1cgF1"
      },
      "id": "yxlbI5I1cgF1"
    },
    {
      "cell_type": "code",
      "metadata": {
        "id": "mLYEexcJpx2a"
      },
      "source": [],
      "id": "mLYEexcJpx2a",
      "execution_count": null,
      "outputs": []
    },
    {
      "cell_type": "markdown",
      "source": [
        "# **Task 3**  - Subset the data based on thresholds\n",
        "\n",
        "We will now subset the original data frame based on the following conditions:\n",
        "\n",
        "* Employees with healthy_eating greater than 8\n",
        "\n",
        "* Employees with Salary less than 1000\n",
        "\n",
        "* Employees with healthy_eating greater than 8 and with salary less than 1000"
      ],
      "metadata": {
        "id": "I6eswfyZc00K"
      },
      "id": "I6eswfyZc00K"
    },
    {
      "cell_type": "code",
      "metadata": {
        "id": "-9UFwllvpx2a",
        "colab": {
          "base_uri": "https://localhost:8080/",
          "height": 81
        },
        "outputId": "c72a1d01-3163-4e1b-9f76-f0abedd9665c"
      },
      "source": [
        "# Employee healthy_eating is greater than 8\n",
        "\n",
        "sub1 = data[data['healthy_eating'] > 8]\n",
        "sub1"
      ],
      "id": "-9UFwllvpx2a",
      "execution_count": null,
      "outputs": [
        {
          "output_type": "execute_result",
          "data": {
            "text/plain": [
              "    id groups  age  healthy_eating  active_lifestyle  salary\n",
              "26  26      A   62               9                 6     700"
            ],
            "text/html": [
              "\n",
              "  <div id=\"df-a21da86e-dacb-473a-8ae6-a5cc1070ac93\">\n",
              "    <div class=\"colab-df-container\">\n",
              "      <div>\n",
              "<style scoped>\n",
              "    .dataframe tbody tr th:only-of-type {\n",
              "        vertical-align: middle;\n",
              "    }\n",
              "\n",
              "    .dataframe tbody tr th {\n",
              "        vertical-align: top;\n",
              "    }\n",
              "\n",
              "    .dataframe thead th {\n",
              "        text-align: right;\n",
              "    }\n",
              "</style>\n",
              "<table border=\"1\" class=\"dataframe\">\n",
              "  <thead>\n",
              "    <tr style=\"text-align: right;\">\n",
              "      <th></th>\n",
              "      <th>id</th>\n",
              "      <th>groups</th>\n",
              "      <th>age</th>\n",
              "      <th>healthy_eating</th>\n",
              "      <th>active_lifestyle</th>\n",
              "      <th>salary</th>\n",
              "    </tr>\n",
              "  </thead>\n",
              "  <tbody>\n",
              "    <tr>\n",
              "      <th>26</th>\n",
              "      <td>26</td>\n",
              "      <td>A</td>\n",
              "      <td>62</td>\n",
              "      <td>9</td>\n",
              "      <td>6</td>\n",
              "      <td>700</td>\n",
              "    </tr>\n",
              "  </tbody>\n",
              "</table>\n",
              "</div>\n",
              "      <button class=\"colab-df-convert\" onclick=\"convertToInteractive('df-a21da86e-dacb-473a-8ae6-a5cc1070ac93')\"\n",
              "              title=\"Convert this dataframe to an interactive table.\"\n",
              "              style=\"display:none;\">\n",
              "        \n",
              "  <svg xmlns=\"http://www.w3.org/2000/svg\" height=\"24px\"viewBox=\"0 0 24 24\"\n",
              "       width=\"24px\">\n",
              "    <path d=\"M0 0h24v24H0V0z\" fill=\"none\"/>\n",
              "    <path d=\"M18.56 5.44l.94 2.06.94-2.06 2.06-.94-2.06-.94-.94-2.06-.94 2.06-2.06.94zm-11 1L8.5 8.5l.94-2.06 2.06-.94-2.06-.94L8.5 2.5l-.94 2.06-2.06.94zm10 10l.94 2.06.94-2.06 2.06-.94-2.06-.94-.94-2.06-.94 2.06-2.06.94z\"/><path d=\"M17.41 7.96l-1.37-1.37c-.4-.4-.92-.59-1.43-.59-.52 0-1.04.2-1.43.59L10.3 9.45l-7.72 7.72c-.78.78-.78 2.05 0 2.83L4 21.41c.39.39.9.59 1.41.59.51 0 1.02-.2 1.41-.59l7.78-7.78 2.81-2.81c.8-.78.8-2.07 0-2.86zM5.41 20L4 18.59l7.72-7.72 1.47 1.35L5.41 20z\"/>\n",
              "  </svg>\n",
              "      </button>\n",
              "      \n",
              "  <style>\n",
              "    .colab-df-container {\n",
              "      display:flex;\n",
              "      flex-wrap:wrap;\n",
              "      gap: 12px;\n",
              "    }\n",
              "\n",
              "    .colab-df-convert {\n",
              "      background-color: #E8F0FE;\n",
              "      border: none;\n",
              "      border-radius: 50%;\n",
              "      cursor: pointer;\n",
              "      display: none;\n",
              "      fill: #1967D2;\n",
              "      height: 32px;\n",
              "      padding: 0 0 0 0;\n",
              "      width: 32px;\n",
              "    }\n",
              "\n",
              "    .colab-df-convert:hover {\n",
              "      background-color: #E2EBFA;\n",
              "      box-shadow: 0px 1px 2px rgba(60, 64, 67, 0.3), 0px 1px 3px 1px rgba(60, 64, 67, 0.15);\n",
              "      fill: #174EA6;\n",
              "    }\n",
              "\n",
              "    [theme=dark] .colab-df-convert {\n",
              "      background-color: #3B4455;\n",
              "      fill: #D2E3FC;\n",
              "    }\n",
              "\n",
              "    [theme=dark] .colab-df-convert:hover {\n",
              "      background-color: #434B5C;\n",
              "      box-shadow: 0px 1px 3px 1px rgba(0, 0, 0, 0.15);\n",
              "      filter: drop-shadow(0px 1px 2px rgba(0, 0, 0, 0.3));\n",
              "      fill: #FFFFFF;\n",
              "    }\n",
              "  </style>\n",
              "\n",
              "      <script>\n",
              "        const buttonEl =\n",
              "          document.querySelector('#df-a21da86e-dacb-473a-8ae6-a5cc1070ac93 button.colab-df-convert');\n",
              "        buttonEl.style.display =\n",
              "          google.colab.kernel.accessAllowed ? 'block' : 'none';\n",
              "\n",
              "        async function convertToInteractive(key) {\n",
              "          const element = document.querySelector('#df-a21da86e-dacb-473a-8ae6-a5cc1070ac93');\n",
              "          const dataTable =\n",
              "            await google.colab.kernel.invokeFunction('convertToInteractive',\n",
              "                                                     [key], {});\n",
              "          if (!dataTable) return;\n",
              "\n",
              "          const docLinkHtml = 'Like what you see? Visit the ' +\n",
              "            '<a target=\"_blank\" href=https://colab.research.google.com/notebooks/data_table.ipynb>data table notebook</a>'\n",
              "            + ' to learn more about interactive tables.';\n",
              "          element.innerHTML = '';\n",
              "          dataTable['output_type'] = 'display_data';\n",
              "          await google.colab.output.renderOutput(dataTable, element);\n",
              "          const docLink = document.createElement('div');\n",
              "          docLink.innerHTML = docLinkHtml;\n",
              "          element.appendChild(docLink);\n",
              "        }\n",
              "      </script>\n",
              "    </div>\n",
              "  </div>\n",
              "  "
            ]
          },
          "metadata": {},
          "execution_count": 85
        }
      ]
    },
    {
      "cell_type": "code",
      "metadata": {
        "id": "J8NJHAIhpx2a",
        "colab": {
          "base_uri": "https://localhost:8080/",
          "height": 332
        },
        "outputId": "86153490-7420-43f9-ff41-faa65fe495c0"
      },
      "source": [
        "# salary less than 1000\n",
        "\n",
        "sub2 = data[data['salary'] < 1000]\n",
        "sub2"
      ],
      "id": "J8NJHAIhpx2a",
      "execution_count": null,
      "outputs": [
        {
          "output_type": "execute_result",
          "data": {
            "text/plain": [
              "    id groups  age  healthy_eating  active_lifestyle  salary\n",
              "3    3      O   24               3                 6     902\n",
              "15  15      B   26               3                 8     662\n",
              "18  18      A   27               2                 6     779\n",
              "26  26      A   62               9                 6     700\n",
              "32  32      A   22               3                 8     662\n",
              "35  35      O   27               2                 4     785\n",
              "38  38     AB   26               3                 7     670\n",
              "39  39      B   29               2                 6     779\n",
              "43  43      O   23               4                10     556"
            ],
            "text/html": [
              "\n",
              "  <div id=\"df-4092486d-dabb-436a-8e01-e3ce1f36a4c3\">\n",
              "    <div class=\"colab-df-container\">\n",
              "      <div>\n",
              "<style scoped>\n",
              "    .dataframe tbody tr th:only-of-type {\n",
              "        vertical-align: middle;\n",
              "    }\n",
              "\n",
              "    .dataframe tbody tr th {\n",
              "        vertical-align: top;\n",
              "    }\n",
              "\n",
              "    .dataframe thead th {\n",
              "        text-align: right;\n",
              "    }\n",
              "</style>\n",
              "<table border=\"1\" class=\"dataframe\">\n",
              "  <thead>\n",
              "    <tr style=\"text-align: right;\">\n",
              "      <th></th>\n",
              "      <th>id</th>\n",
              "      <th>groups</th>\n",
              "      <th>age</th>\n",
              "      <th>healthy_eating</th>\n",
              "      <th>active_lifestyle</th>\n",
              "      <th>salary</th>\n",
              "    </tr>\n",
              "  </thead>\n",
              "  <tbody>\n",
              "    <tr>\n",
              "      <th>3</th>\n",
              "      <td>3</td>\n",
              "      <td>O</td>\n",
              "      <td>24</td>\n",
              "      <td>3</td>\n",
              "      <td>6</td>\n",
              "      <td>902</td>\n",
              "    </tr>\n",
              "    <tr>\n",
              "      <th>15</th>\n",
              "      <td>15</td>\n",
              "      <td>B</td>\n",
              "      <td>26</td>\n",
              "      <td>3</td>\n",
              "      <td>8</td>\n",
              "      <td>662</td>\n",
              "    </tr>\n",
              "    <tr>\n",
              "      <th>18</th>\n",
              "      <td>18</td>\n",
              "      <td>A</td>\n",
              "      <td>27</td>\n",
              "      <td>2</td>\n",
              "      <td>6</td>\n",
              "      <td>779</td>\n",
              "    </tr>\n",
              "    <tr>\n",
              "      <th>26</th>\n",
              "      <td>26</td>\n",
              "      <td>A</td>\n",
              "      <td>62</td>\n",
              "      <td>9</td>\n",
              "      <td>6</td>\n",
              "      <td>700</td>\n",
              "    </tr>\n",
              "    <tr>\n",
              "      <th>32</th>\n",
              "      <td>32</td>\n",
              "      <td>A</td>\n",
              "      <td>22</td>\n",
              "      <td>3</td>\n",
              "      <td>8</td>\n",
              "      <td>662</td>\n",
              "    </tr>\n",
              "    <tr>\n",
              "      <th>35</th>\n",
              "      <td>35</td>\n",
              "      <td>O</td>\n",
              "      <td>27</td>\n",
              "      <td>2</td>\n",
              "      <td>4</td>\n",
              "      <td>785</td>\n",
              "    </tr>\n",
              "    <tr>\n",
              "      <th>38</th>\n",
              "      <td>38</td>\n",
              "      <td>AB</td>\n",
              "      <td>26</td>\n",
              "      <td>3</td>\n",
              "      <td>7</td>\n",
              "      <td>670</td>\n",
              "    </tr>\n",
              "    <tr>\n",
              "      <th>39</th>\n",
              "      <td>39</td>\n",
              "      <td>B</td>\n",
              "      <td>29</td>\n",
              "      <td>2</td>\n",
              "      <td>6</td>\n",
              "      <td>779</td>\n",
              "    </tr>\n",
              "    <tr>\n",
              "      <th>43</th>\n",
              "      <td>43</td>\n",
              "      <td>O</td>\n",
              "      <td>23</td>\n",
              "      <td>4</td>\n",
              "      <td>10</td>\n",
              "      <td>556</td>\n",
              "    </tr>\n",
              "  </tbody>\n",
              "</table>\n",
              "</div>\n",
              "      <button class=\"colab-df-convert\" onclick=\"convertToInteractive('df-4092486d-dabb-436a-8e01-e3ce1f36a4c3')\"\n",
              "              title=\"Convert this dataframe to an interactive table.\"\n",
              "              style=\"display:none;\">\n",
              "        \n",
              "  <svg xmlns=\"http://www.w3.org/2000/svg\" height=\"24px\"viewBox=\"0 0 24 24\"\n",
              "       width=\"24px\">\n",
              "    <path d=\"M0 0h24v24H0V0z\" fill=\"none\"/>\n",
              "    <path d=\"M18.56 5.44l.94 2.06.94-2.06 2.06-.94-2.06-.94-.94-2.06-.94 2.06-2.06.94zm-11 1L8.5 8.5l.94-2.06 2.06-.94-2.06-.94L8.5 2.5l-.94 2.06-2.06.94zm10 10l.94 2.06.94-2.06 2.06-.94-2.06-.94-.94-2.06-.94 2.06-2.06.94z\"/><path d=\"M17.41 7.96l-1.37-1.37c-.4-.4-.92-.59-1.43-.59-.52 0-1.04.2-1.43.59L10.3 9.45l-7.72 7.72c-.78.78-.78 2.05 0 2.83L4 21.41c.39.39.9.59 1.41.59.51 0 1.02-.2 1.41-.59l7.78-7.78 2.81-2.81c.8-.78.8-2.07 0-2.86zM5.41 20L4 18.59l7.72-7.72 1.47 1.35L5.41 20z\"/>\n",
              "  </svg>\n",
              "      </button>\n",
              "      \n",
              "  <style>\n",
              "    .colab-df-container {\n",
              "      display:flex;\n",
              "      flex-wrap:wrap;\n",
              "      gap: 12px;\n",
              "    }\n",
              "\n",
              "    .colab-df-convert {\n",
              "      background-color: #E8F0FE;\n",
              "      border: none;\n",
              "      border-radius: 50%;\n",
              "      cursor: pointer;\n",
              "      display: none;\n",
              "      fill: #1967D2;\n",
              "      height: 32px;\n",
              "      padding: 0 0 0 0;\n",
              "      width: 32px;\n",
              "    }\n",
              "\n",
              "    .colab-df-convert:hover {\n",
              "      background-color: #E2EBFA;\n",
              "      box-shadow: 0px 1px 2px rgba(60, 64, 67, 0.3), 0px 1px 3px 1px rgba(60, 64, 67, 0.15);\n",
              "      fill: #174EA6;\n",
              "    }\n",
              "\n",
              "    [theme=dark] .colab-df-convert {\n",
              "      background-color: #3B4455;\n",
              "      fill: #D2E3FC;\n",
              "    }\n",
              "\n",
              "    [theme=dark] .colab-df-convert:hover {\n",
              "      background-color: #434B5C;\n",
              "      box-shadow: 0px 1px 3px 1px rgba(0, 0, 0, 0.15);\n",
              "      filter: drop-shadow(0px 1px 2px rgba(0, 0, 0, 0.3));\n",
              "      fill: #FFFFFF;\n",
              "    }\n",
              "  </style>\n",
              "\n",
              "      <script>\n",
              "        const buttonEl =\n",
              "          document.querySelector('#df-4092486d-dabb-436a-8e01-e3ce1f36a4c3 button.colab-df-convert');\n",
              "        buttonEl.style.display =\n",
              "          google.colab.kernel.accessAllowed ? 'block' : 'none';\n",
              "\n",
              "        async function convertToInteractive(key) {\n",
              "          const element = document.querySelector('#df-4092486d-dabb-436a-8e01-e3ce1f36a4c3');\n",
              "          const dataTable =\n",
              "            await google.colab.kernel.invokeFunction('convertToInteractive',\n",
              "                                                     [key], {});\n",
              "          if (!dataTable) return;\n",
              "\n",
              "          const docLinkHtml = 'Like what you see? Visit the ' +\n",
              "            '<a target=\"_blank\" href=https://colab.research.google.com/notebooks/data_table.ipynb>data table notebook</a>'\n",
              "            + ' to learn more about interactive tables.';\n",
              "          element.innerHTML = '';\n",
              "          dataTable['output_type'] = 'display_data';\n",
              "          await google.colab.output.renderOutput(dataTable, element);\n",
              "          const docLink = document.createElement('div');\n",
              "          docLink.innerHTML = docLinkHtml;\n",
              "          element.appendChild(docLink);\n",
              "        }\n",
              "      </script>\n",
              "    </div>\n",
              "  </div>\n",
              "  "
            ]
          },
          "metadata": {},
          "execution_count": 86
        }
      ]
    },
    {
      "cell_type": "code",
      "metadata": {
        "id": "eIgWnSBPmIBv"
      },
      "source": [
        "# Employees with healthy_eating greater than 8 and with salary less than 1000\n",
        "\n",
        "sub = data[(data['healthy_eating']>8) & (data['salary']<1000)]"
      ],
      "id": "eIgWnSBPmIBv",
      "execution_count": null,
      "outputs": []
    },
    {
      "cell_type": "code",
      "source": [
        "sub"
      ],
      "metadata": {
        "colab": {
          "base_uri": "https://localhost:8080/",
          "height": 81
        },
        "id": "DdlZ2qsvy8Fd",
        "outputId": "d1d722ac-9d82-49ad-d3d7-501cca3f5b6b"
      },
      "id": "DdlZ2qsvy8Fd",
      "execution_count": null,
      "outputs": [
        {
          "output_type": "execute_result",
          "data": {
            "text/plain": [
              "    id groups  age  healthy_eating  active_lifestyle  salary\n",
              "26  26      A   62               9                 6     700"
            ],
            "text/html": [
              "\n",
              "  <div id=\"df-30cf16fc-a0f2-4ce5-9de0-8c56e3d74a37\">\n",
              "    <div class=\"colab-df-container\">\n",
              "      <div>\n",
              "<style scoped>\n",
              "    .dataframe tbody tr th:only-of-type {\n",
              "        vertical-align: middle;\n",
              "    }\n",
              "\n",
              "    .dataframe tbody tr th {\n",
              "        vertical-align: top;\n",
              "    }\n",
              "\n",
              "    .dataframe thead th {\n",
              "        text-align: right;\n",
              "    }\n",
              "</style>\n",
              "<table border=\"1\" class=\"dataframe\">\n",
              "  <thead>\n",
              "    <tr style=\"text-align: right;\">\n",
              "      <th></th>\n",
              "      <th>id</th>\n",
              "      <th>groups</th>\n",
              "      <th>age</th>\n",
              "      <th>healthy_eating</th>\n",
              "      <th>active_lifestyle</th>\n",
              "      <th>salary</th>\n",
              "    </tr>\n",
              "  </thead>\n",
              "  <tbody>\n",
              "    <tr>\n",
              "      <th>26</th>\n",
              "      <td>26</td>\n",
              "      <td>A</td>\n",
              "      <td>62</td>\n",
              "      <td>9</td>\n",
              "      <td>6</td>\n",
              "      <td>700</td>\n",
              "    </tr>\n",
              "  </tbody>\n",
              "</table>\n",
              "</div>\n",
              "      <button class=\"colab-df-convert\" onclick=\"convertToInteractive('df-30cf16fc-a0f2-4ce5-9de0-8c56e3d74a37')\"\n",
              "              title=\"Convert this dataframe to an interactive table.\"\n",
              "              style=\"display:none;\">\n",
              "        \n",
              "  <svg xmlns=\"http://www.w3.org/2000/svg\" height=\"24px\"viewBox=\"0 0 24 24\"\n",
              "       width=\"24px\">\n",
              "    <path d=\"M0 0h24v24H0V0z\" fill=\"none\"/>\n",
              "    <path d=\"M18.56 5.44l.94 2.06.94-2.06 2.06-.94-2.06-.94-.94-2.06-.94 2.06-2.06.94zm-11 1L8.5 8.5l.94-2.06 2.06-.94-2.06-.94L8.5 2.5l-.94 2.06-2.06.94zm10 10l.94 2.06.94-2.06 2.06-.94-2.06-.94-.94-2.06-.94 2.06-2.06.94z\"/><path d=\"M17.41 7.96l-1.37-1.37c-.4-.4-.92-.59-1.43-.59-.52 0-1.04.2-1.43.59L10.3 9.45l-7.72 7.72c-.78.78-.78 2.05 0 2.83L4 21.41c.39.39.9.59 1.41.59.51 0 1.02-.2 1.41-.59l7.78-7.78 2.81-2.81c.8-.78.8-2.07 0-2.86zM5.41 20L4 18.59l7.72-7.72 1.47 1.35L5.41 20z\"/>\n",
              "  </svg>\n",
              "      </button>\n",
              "      \n",
              "  <style>\n",
              "    .colab-df-container {\n",
              "      display:flex;\n",
              "      flex-wrap:wrap;\n",
              "      gap: 12px;\n",
              "    }\n",
              "\n",
              "    .colab-df-convert {\n",
              "      background-color: #E8F0FE;\n",
              "      border: none;\n",
              "      border-radius: 50%;\n",
              "      cursor: pointer;\n",
              "      display: none;\n",
              "      fill: #1967D2;\n",
              "      height: 32px;\n",
              "      padding: 0 0 0 0;\n",
              "      width: 32px;\n",
              "    }\n",
              "\n",
              "    .colab-df-convert:hover {\n",
              "      background-color: #E2EBFA;\n",
              "      box-shadow: 0px 1px 2px rgba(60, 64, 67, 0.3), 0px 1px 3px 1px rgba(60, 64, 67, 0.15);\n",
              "      fill: #174EA6;\n",
              "    }\n",
              "\n",
              "    [theme=dark] .colab-df-convert {\n",
              "      background-color: #3B4455;\n",
              "      fill: #D2E3FC;\n",
              "    }\n",
              "\n",
              "    [theme=dark] .colab-df-convert:hover {\n",
              "      background-color: #434B5C;\n",
              "      box-shadow: 0px 1px 3px 1px rgba(0, 0, 0, 0.15);\n",
              "      filter: drop-shadow(0px 1px 2px rgba(0, 0, 0, 0.3));\n",
              "      fill: #FFFFFF;\n",
              "    }\n",
              "  </style>\n",
              "\n",
              "      <script>\n",
              "        const buttonEl =\n",
              "          document.querySelector('#df-30cf16fc-a0f2-4ce5-9de0-8c56e3d74a37 button.colab-df-convert');\n",
              "        buttonEl.style.display =\n",
              "          google.colab.kernel.accessAllowed ? 'block' : 'none';\n",
              "\n",
              "        async function convertToInteractive(key) {\n",
              "          const element = document.querySelector('#df-30cf16fc-a0f2-4ce5-9de0-8c56e3d74a37');\n",
              "          const dataTable =\n",
              "            await google.colab.kernel.invokeFunction('convertToInteractive',\n",
              "                                                     [key], {});\n",
              "          if (!dataTable) return;\n",
              "\n",
              "          const docLinkHtml = 'Like what you see? Visit the ' +\n",
              "            '<a target=\"_blank\" href=https://colab.research.google.com/notebooks/data_table.ipynb>data table notebook</a>'\n",
              "            + ' to learn more about interactive tables.';\n",
              "          element.innerHTML = '';\n",
              "          dataTable['output_type'] = 'display_data';\n",
              "          await google.colab.output.renderOutput(dataTable, element);\n",
              "          const docLink = document.createElement('div');\n",
              "          docLink.innerHTML = docLinkHtml;\n",
              "          element.appendChild(docLink);\n",
              "        }\n",
              "      </script>\n",
              "    </div>\n",
              "  </div>\n",
              "  "
            ]
          },
          "metadata": {},
          "execution_count": 88
        }
      ]
    },
    {
      "cell_type": "markdown",
      "source": [
        "Observations:\n",
        "\n",
        "1. The only employee seemingly facing a discrepancy in salary as compared to healthy_eating is employee who is having id = 26\n",
        "\n",
        "2. The employee with id having 26 has a salary of 700"
      ],
      "metadata": {
        "id": "q2ScTobpdBBc"
      },
      "id": "q2ScTobpdBBc"
    },
    {
      "cell_type": "markdown",
      "source": [
        "# **Final Conclusions**\n",
        "\n",
        "From the given data, we can use simple visualisations to get a sense of how data are distributed\n",
        "\n",
        "We can conduct preliminary analyses simply by subsetting data sets using well thought out thresholds and conditions"
      ],
      "metadata": {
        "id": "gOP3QUn7dHOO"
      },
      "id": "gOP3QUn7dHOO"
    }
  ]
}