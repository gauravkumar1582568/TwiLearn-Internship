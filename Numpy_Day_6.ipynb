{
  "nbformat": 4,
  "nbformat_minor": 0,
  "metadata": {
    "colab": {
      "provenance": []
    },
    "kernelspec": {
      "name": "python3",
      "display_name": "Python 3"
    },
    "language_info": {
      "name": "python"
    }
  },
  "cells": [
    {
      "cell_type": "markdown",
      "source": [
        "# Numpy Array Dimensions\n",
        "\n",
        "1D Array\n",
        "\n",
        "2D Array\n",
        "\n",
        "3D Array"
      ],
      "metadata": {
        "id": "QdotJTdfDIG0"
      }
    },
    {
      "cell_type": "code",
      "source": [
        "import numpy as np      # importing numpy library"
      ],
      "metadata": {
        "id": "P2t3s34aC8zd"
      },
      "execution_count": null,
      "outputs": []
    },
    {
      "cell_type": "code",
      "source": [
        "A = np.array(5)        # Scalar Array\n",
        "A"
      ],
      "metadata": {
        "colab": {
          "base_uri": "https://localhost:8080/"
        },
        "id": "duYpdIjTC81i",
        "outputId": "81d0bad2-636b-4477-9af2-e1268a7312ad"
      },
      "execution_count": null,
      "outputs": [
        {
          "output_type": "execute_result",
          "data": {
            "text/plain": [
              "array(5)"
            ]
          },
          "metadata": {},
          "execution_count": 3
        }
      ]
    },
    {
      "cell_type": "code",
      "source": [
        "np.ndim(A)               # Dimension method"
      ],
      "metadata": {
        "colab": {
          "base_uri": "https://localhost:8080/"
        },
        "id": "kH5n4yfUC83W",
        "outputId": "5d0bf83a-2de8-4004-e208-7a31a8190a9d"
      },
      "execution_count": null,
      "outputs": [
        {
          "output_type": "execute_result",
          "data": {
            "text/plain": [
              "0"
            ]
          },
          "metadata": {},
          "execution_count": 4
        }
      ]
    },
    {
      "cell_type": "code",
      "source": [
        "One = np.array([1, 2, 3, 4, 5])\n",
        "Two = np.array([[1, 2, 3], [4, 5, 6]])\n",
        "Three = np.array([[[1, 2, 3], [4, 5, 6]], \n",
        "                 [[7, 8, 9], [10, 11, 12]]])"
      ],
      "metadata": {
        "id": "NUIfRVB_C86s"
      },
      "execution_count": null,
      "outputs": []
    },
    {
      "cell_type": "code",
      "source": [
        "Three"
      ],
      "metadata": {
        "colab": {
          "base_uri": "https://localhost:8080/"
        },
        "id": "LLRl5-qMdOTG",
        "outputId": "3a637df3-5cc8-4060-f400-f61bf78a2d33"
      },
      "execution_count": null,
      "outputs": [
        {
          "output_type": "execute_result",
          "data": {
            "text/plain": [
              "array([[[ 1,  2,  3],\n",
              "        [ 4,  5,  6]],\n",
              "\n",
              "       [[ 7,  8,  9],\n",
              "        [10, 11, 12]]])"
            ]
          },
          "metadata": {},
          "execution_count": 24
        }
      ]
    },
    {
      "cell_type": "code",
      "source": [
        "Three.shape"
      ],
      "metadata": {
        "colab": {
          "base_uri": "https://localhost:8080/"
        },
        "id": "UfLxRm6mWMpl",
        "outputId": "02c0c47f-3fe9-41a6-e602-789f2487d56c"
      },
      "execution_count": null,
      "outputs": [
        {
          "output_type": "execute_result",
          "data": {
            "text/plain": [
              "(2, 2, 3)"
            ]
          },
          "metadata": {},
          "execution_count": 23
        }
      ]
    },
    {
      "cell_type": "code",
      "source": [
        "# np.ndim(One)\n",
        "# np.ndim(Two)\n",
        "# np.ndim(Three)"
      ],
      "metadata": {
        "id": "b__zQgAvC88z"
      },
      "execution_count": null,
      "outputs": []
    },
    {
      "cell_type": "code",
      "source": [],
      "metadata": {
        "id": "g4Iyxu54C8-q"
      },
      "execution_count": null,
      "outputs": []
    },
    {
      "cell_type": "code",
      "source": [],
      "metadata": {
        "id": "MoBHvmZHC9CD"
      },
      "execution_count": null,
      "outputs": []
    },
    {
      "cell_type": "markdown",
      "source": [
        "# List vs Numpy Array"
      ],
      "metadata": {
        "id": "GHBp5JWLHCQN"
      }
    },
    {
      "cell_type": "code",
      "source": [
        "list1 = [1,4.0,'apple']                     # List - Different Datatypes\n",
        "arr = np.array([1, 2, 3, 4, 5])             # Array - Similar Datatypes"
      ],
      "metadata": {
        "id": "av6OOp0MC9EL"
      },
      "execution_count": null,
      "outputs": []
    },
    {
      "cell_type": "code",
      "source": [
        "arr"
      ],
      "metadata": {
        "colab": {
          "base_uri": "https://localhost:8080/"
        },
        "id": "3KS2a04Tf9ZZ",
        "outputId": "87fe3771-b7cb-458b-a73e-c419170c892a"
      },
      "execution_count": null,
      "outputs": [
        {
          "output_type": "execute_result",
          "data": {
            "text/plain": [
              "array([1, 2, 3, 4, 5])"
            ]
          },
          "metadata": {},
          "execution_count": 34
        }
      ]
    },
    {
      "cell_type": "code",
      "source": [
        "arr = np.array([1, 2, 3.9, 'apple'])        # Type Conversion"
      ],
      "metadata": {
        "id": "yMGXeXRGHMaU"
      },
      "execution_count": null,
      "outputs": []
    },
    {
      "cell_type": "code",
      "source": [
        "arr"
      ],
      "metadata": {
        "colab": {
          "base_uri": "https://localhost:8080/"
        },
        "id": "UFqozM89XtBY",
        "outputId": "86477b0e-2794-449f-8f48-1821080b3a74"
      },
      "execution_count": null,
      "outputs": [
        {
          "output_type": "execute_result",
          "data": {
            "text/plain": [
              "array(['1', '2', '3.9', 'apple'], dtype='<U32')"
            ]
          },
          "metadata": {},
          "execution_count": 37
        }
      ]
    },
    {
      "cell_type": "code",
      "source": [
        "arr = np.array([1, 2, 3, 4, 5])             # Allows Mathematical Operations\n",
        "\n",
        "# arr/5\n",
        "# list1/5"
      ],
      "metadata": {
        "id": "0WNjsiw9HMdu"
      },
      "execution_count": null,
      "outputs": []
    },
    {
      "cell_type": "code",
      "source": [],
      "metadata": {
        "id": "mA36IcVhKX5N"
      },
      "execution_count": null,
      "outputs": []
    },
    {
      "cell_type": "markdown",
      "source": [
        "# More Advantages of Numpy Array over list\n",
        "\n",
        "*   Array consumes less memory\n",
        "*   Array are faster than lists\n",
        "\n"
      ],
      "metadata": {
        "id": "Aqu_C2A7J9lu"
      }
    },
    {
      "cell_type": "code",
      "source": [],
      "metadata": {
        "id": "k0dl0ke-KWwi"
      },
      "execution_count": null,
      "outputs": []
    },
    {
      "cell_type": "code",
      "source": [],
      "metadata": {
        "id": "no42aAEFLkGO"
      },
      "execution_count": null,
      "outputs": []
    },
    {
      "cell_type": "code",
      "source": [],
      "metadata": {
        "id": "rArm66RPLkIO"
      },
      "execution_count": null,
      "outputs": []
    },
    {
      "cell_type": "markdown",
      "source": [
        "# Reshaping arrays\n",
        "\n",
        "Reshaping means changing the shape of an array."
      ],
      "metadata": {
        "id": "Q2a3EUKFLlt_"
      }
    },
    {
      "cell_type": "code",
      "source": [
        "arr = np.array([1, 2, 3, 4, 5, 6, 7, 8, 9, 10, 11, 12])   # 1D Array\n",
        "\n",
        "# 1D to 2D Array \n",
        "newarr = arr.reshape(4, 3)\n"
      ],
      "metadata": {
        "id": "WpAVFBamLkrt"
      },
      "execution_count": null,
      "outputs": []
    },
    {
      "cell_type": "code",
      "source": [
        "print(newarr)"
      ],
      "metadata": {
        "colab": {
          "base_uri": "https://localhost:8080/"
        },
        "id": "eU_QdrgQMhpe",
        "outputId": "3b62e557-f021-4925-d397-e200ef373e50"
      },
      "execution_count": null,
      "outputs": [
        {
          "output_type": "stream",
          "name": "stdout",
          "text": [
            "[[ 1  2  3]\n",
            " [ 4  5  6]\n",
            " [ 7  8  9]\n",
            " [10 11 12]]\n"
          ]
        }
      ]
    },
    {
      "cell_type": "code",
      "source": [
        "# 1D to 3D Array \n",
        "\n",
        "newarr = arr.reshape(2, 3, 2)    # x,y,z: x = matrix, y = rows, z = cols\n"
      ],
      "metadata": {
        "id": "AYkQVlWjMhrl"
      },
      "execution_count": null,
      "outputs": []
    },
    {
      "cell_type": "code",
      "source": [
        "print(newarr)"
      ],
      "metadata": {
        "colab": {
          "base_uri": "https://localhost:8080/"
        },
        "id": "vLMa7U4rnLmR",
        "outputId": "608bcb72-ec89-44bf-fa39-559d3eb1a643"
      },
      "execution_count": null,
      "outputs": [
        {
          "output_type": "stream",
          "name": "stdout",
          "text": [
            "[[[ 1  2]\n",
            "  [ 3  4]\n",
            "  [ 5  6]]\n",
            "\n",
            " [[ 7  8]\n",
            "  [ 9 10]\n",
            "  [11 12]]]\n"
          ]
        }
      ]
    },
    {
      "cell_type": "code",
      "source": [],
      "metadata": {
        "id": "eWlpDJzgnLoX"
      },
      "execution_count": null,
      "outputs": []
    },
    {
      "cell_type": "code",
      "source": [],
      "metadata": {
        "id": "dHgqTZSLnLrq"
      },
      "execution_count": null,
      "outputs": []
    },
    {
      "cell_type": "code",
      "source": [
        "print(newarr)"
      ],
      "metadata": {
        "colab": {
          "base_uri": "https://localhost:8080/"
        },
        "id": "x6PYF8phMhxF",
        "outputId": "ee7a990c-4553-414b-9d0f-6b19a762b085"
      },
      "execution_count": null,
      "outputs": [
        {
          "output_type": "stream",
          "name": "stdout",
          "text": [
            "[[[ 1  2]\n",
            "  [ 3  4]\n",
            "  [ 5  6]]\n",
            "\n",
            " [[ 7  8]\n",
            "  [ 9 10]\n",
            "  [11 12]]]\n"
          ]
        }
      ]
    },
    {
      "cell_type": "code",
      "source": [],
      "metadata": {
        "id": "7I6IWAVEOgNl"
      },
      "execution_count": null,
      "outputs": []
    },
    {
      "cell_type": "code",
      "source": [],
      "metadata": {
        "id": "CQWlxqh_Omcv"
      },
      "execution_count": null,
      "outputs": []
    },
    {
      "cell_type": "markdown",
      "source": [
        "# Array Indexing\n",
        "\n",
        "Array indexing is the same as accessing an array element.\n",
        "\n",
        "You can access an array element by referring to its index number."
      ],
      "metadata": {
        "id": "PgIzIak6OoFm"
      }
    },
    {
      "cell_type": "code",
      "source": [
        "arr = np.array([1, 2, 3, 4])              # Accessing 1D Array\n",
        "\n",
        "print(arr[3])"
      ],
      "metadata": {
        "colab": {
          "base_uri": "https://localhost:8080/"
        },
        "id": "0tX3tbEiOyG5",
        "outputId": "4cee4423-f7b1-46c6-c473-b7cde5701353"
      },
      "execution_count": null,
      "outputs": [
        {
          "output_type": "stream",
          "name": "stdout",
          "text": [
            "4\n"
          ]
        }
      ]
    },
    {
      "cell_type": "code",
      "source": [
        "print(arr[0] + arr[1])                 # Addition of 2 elements"
      ],
      "metadata": {
        "colab": {
          "base_uri": "https://localhost:8080/"
        },
        "id": "Tsmv3DEFOypt",
        "outputId": "a16370e6-eef5-4c42-e106-7792ffb3f8c1"
      },
      "execution_count": null,
      "outputs": [
        {
          "output_type": "stream",
          "name": "stdout",
          "text": [
            "3\n"
          ]
        }
      ]
    },
    {
      "cell_type": "code",
      "source": [
        "arr = np.array([[1,2,3,4,5], [6,7,8,9,10]])  # Accessing 2D Array\n",
        "\n",
        "print(arr[0, 3])                          # 1st row 4th element\n",
        "print(arr[1, 1])                          # 2nd row 5th element"
      ],
      "metadata": {
        "colab": {
          "base_uri": "https://localhost:8080/"
        },
        "id": "3Rr5Z3S8Oyrd",
        "outputId": "2383cd60-ffe1-4145-b590-0b3cf5ebe1b9"
      },
      "execution_count": null,
      "outputs": [
        {
          "output_type": "stream",
          "name": "stdout",
          "text": [
            "4\n",
            "7\n"
          ]
        }
      ]
    },
    {
      "cell_type": "code",
      "source": [
        "arr"
      ],
      "metadata": {
        "colab": {
          "base_uri": "https://localhost:8080/"
        },
        "id": "GASoXUNzpJRD",
        "outputId": "39e2c139-50ee-4627-962f-dec9dfc3b241"
      },
      "execution_count": null,
      "outputs": [
        {
          "output_type": "execute_result",
          "data": {
            "text/plain": [
              "array([[ 1,  2,  3,  4,  5],\n",
              "       [ 6,  7,  8,  9, 10]])"
            ]
          },
          "metadata": {},
          "execution_count": 52
        }
      ]
    },
    {
      "cell_type": "code",
      "source": [
        "arr3 = np.array([[[1, 2, 3], [4, 5, 6]], [[7, 8, 9], [10, 11, 12]]])   # Accessing 3D Array\n",
        "\n",
        "arr3.shape\n",
        "# print(arr3[0, 0, 2])               # 1st matrix, 1st row, 3rd column\n",
        "print(arr3[1, 1, 1])               # 1st matrix, 2nd row, 1st column"
      ],
      "metadata": {
        "colab": {
          "base_uri": "https://localhost:8080/"
        },
        "id": "7YsdWkpKOyvF",
        "outputId": "ca00defd-702f-49fe-8b79-48ad21c72eb8"
      },
      "execution_count": null,
      "outputs": [
        {
          "output_type": "stream",
          "name": "stdout",
          "text": [
            "11\n"
          ]
        }
      ]
    },
    {
      "cell_type": "code",
      "source": [
        "print(arr3)"
      ],
      "metadata": {
        "colab": {
          "base_uri": "https://localhost:8080/"
        },
        "id": "5AAUTgXkpIrZ",
        "outputId": "04e9a390-489e-4ef1-9175-cda2e0f539cc"
      },
      "execution_count": null,
      "outputs": [
        {
          "output_type": "stream",
          "name": "stdout",
          "text": [
            "[[[ 1  2  3]\n",
            "  [ 4  5  6]]\n",
            "\n",
            " [[ 7  8  9]\n",
            "  [10 11 12]]]\n"
          ]
        }
      ]
    },
    {
      "cell_type": "code",
      "source": [],
      "metadata": {
        "id": "rPuQA0msRYGP"
      },
      "execution_count": null,
      "outputs": []
    }
  ]
}