{
  "cells": [
    {
      "cell_type": "markdown",
      "source": [
        "# **Introduction**\n",
        "\n",
        "This Jupyter notebook is part of your learning experience in the study of central tendency\n",
        "\n",
        "We will work with a simple data set that contains details of wine quality \n",
        "\n",
        "In this exercise, we will perform the following tasks:\n",
        "\n",
        "1 - Load and study the data\n",
        "\n",
        "2 - View the distributions of the various features in the data set and calculate their central tendencies\n",
        "\n",
        "3 - Create a new Pandas Series that contains the details of the representative factor for quality"
      ],
      "metadata": {
        "id": "18idk-8Z0_pU"
      },
      "id": "18idk-8Z0_pU"
    },
    {
      "cell_type": "markdown",
      "source": [
        "# **Task 1** - Load and study the data\n",
        "\n",
        "Load the data and study its features such as:\n",
        "\n",
        "* fixed acidity\n",
        "\n",
        "* volatile acidity\n",
        "\n",
        "* citric acid etc."
      ],
      "metadata": {
        "id": "gmr6FhI31OJX"
      },
      "id": "gmr6FhI31OJX"
    },
    {
      "cell_type": "code",
      "source": [],
      "metadata": {
        "id": "J3xGqOttBxRt"
      },
      "id": "J3xGqOttBxRt",
      "execution_count": null,
      "outputs": []
    },
    {
      "cell_type": "code",
      "execution_count": null,
      "metadata": {
        "id": "unpiYVYP8QlP"
      },
      "outputs": [],
      "source": [
        "# Load \"numpy\" and \"pandas\" for manipulating numbers and data frames\n",
        "# Load \"matplotlib.pyplot\" and \"seaborn\" for data visualisation\n",
        "\n",
        "import pandas as pd\n",
        "import numpy as np\n",
        "import matplotlib.pyplot as plt\n",
        "import seaborn as sns\n"
      ],
      "id": "unpiYVYP8QlP"
    },
    {
      "cell_type": "code",
      "execution_count": null,
      "metadata": {
        "id": "PPXsV90-8QlQ"
      },
      "outputs": [],
      "source": [
        "# Read in the \"winequality-white.csv\" file as a Pandas DataFrame\n",
        "\n",
        "data = pd.read_csv('/content/winequality-white - winequality-white.csv')\n"
      ],
      "id": "PPXsV90-8QlQ"
    },
    {
      "cell_type": "code",
      "execution_count": null,
      "metadata": {
        "id": "N2zAtETU8QlQ",
        "colab": {
          "base_uri": "https://localhost:8080/",
          "height": 268
        },
        "outputId": "1209a7ff-f08d-4781-dfff-78d241565824"
      },
      "outputs": [
        {
          "output_type": "execute_result",
          "data": {
            "text/plain": [
              "   fixed acidity  volatile acidity  citric acid  residual sugar  chlorides  \\\n",
              "0            7.0              0.27         0.36            20.7      0.045   \n",
              "1            6.3              0.30         0.34             1.6      0.049   \n",
              "2            8.1              0.28         0.40             6.9      0.050   \n",
              "3            7.2              0.23         0.32             8.5      0.058   \n",
              "4            7.2              0.23         0.32             8.5      0.058   \n",
              "\n",
              "   free sulfur dioxide  total sulfur dioxide  density    pH  sulphates  \\\n",
              "0                 45.0                 170.0   1.0010  3.00       0.45   \n",
              "1                 14.0                 132.0   0.9940  3.30       0.49   \n",
              "2                 30.0                  97.0   0.9951  3.26       0.44   \n",
              "3                 47.0                 186.0   0.9956  3.19       0.40   \n",
              "4                 47.0                 186.0   0.9956  3.19       0.40   \n",
              "\n",
              "   alcohol  quality  \n",
              "0      8.8        6  \n",
              "1      9.5        6  \n",
              "2     10.1        6  \n",
              "3      9.9        6  \n",
              "4      9.9        6  "
            ],
            "text/html": [
              "\n",
              "  <div id=\"df-ee86fa70-5c95-46d9-8417-2f3b02034af6\">\n",
              "    <div class=\"colab-df-container\">\n",
              "      <div>\n",
              "<style scoped>\n",
              "    .dataframe tbody tr th:only-of-type {\n",
              "        vertical-align: middle;\n",
              "    }\n",
              "\n",
              "    .dataframe tbody tr th {\n",
              "        vertical-align: top;\n",
              "    }\n",
              "\n",
              "    .dataframe thead th {\n",
              "        text-align: right;\n",
              "    }\n",
              "</style>\n",
              "<table border=\"1\" class=\"dataframe\">\n",
              "  <thead>\n",
              "    <tr style=\"text-align: right;\">\n",
              "      <th></th>\n",
              "      <th>fixed acidity</th>\n",
              "      <th>volatile acidity</th>\n",
              "      <th>citric acid</th>\n",
              "      <th>residual sugar</th>\n",
              "      <th>chlorides</th>\n",
              "      <th>free sulfur dioxide</th>\n",
              "      <th>total sulfur dioxide</th>\n",
              "      <th>density</th>\n",
              "      <th>pH</th>\n",
              "      <th>sulphates</th>\n",
              "      <th>alcohol</th>\n",
              "      <th>quality</th>\n",
              "    </tr>\n",
              "  </thead>\n",
              "  <tbody>\n",
              "    <tr>\n",
              "      <th>0</th>\n",
              "      <td>7.0</td>\n",
              "      <td>0.27</td>\n",
              "      <td>0.36</td>\n",
              "      <td>20.7</td>\n",
              "      <td>0.045</td>\n",
              "      <td>45.0</td>\n",
              "      <td>170.0</td>\n",
              "      <td>1.0010</td>\n",
              "      <td>3.00</td>\n",
              "      <td>0.45</td>\n",
              "      <td>8.8</td>\n",
              "      <td>6</td>\n",
              "    </tr>\n",
              "    <tr>\n",
              "      <th>1</th>\n",
              "      <td>6.3</td>\n",
              "      <td>0.30</td>\n",
              "      <td>0.34</td>\n",
              "      <td>1.6</td>\n",
              "      <td>0.049</td>\n",
              "      <td>14.0</td>\n",
              "      <td>132.0</td>\n",
              "      <td>0.9940</td>\n",
              "      <td>3.30</td>\n",
              "      <td>0.49</td>\n",
              "      <td>9.5</td>\n",
              "      <td>6</td>\n",
              "    </tr>\n",
              "    <tr>\n",
              "      <th>2</th>\n",
              "      <td>8.1</td>\n",
              "      <td>0.28</td>\n",
              "      <td>0.40</td>\n",
              "      <td>6.9</td>\n",
              "      <td>0.050</td>\n",
              "      <td>30.0</td>\n",
              "      <td>97.0</td>\n",
              "      <td>0.9951</td>\n",
              "      <td>3.26</td>\n",
              "      <td>0.44</td>\n",
              "      <td>10.1</td>\n",
              "      <td>6</td>\n",
              "    </tr>\n",
              "    <tr>\n",
              "      <th>3</th>\n",
              "      <td>7.2</td>\n",
              "      <td>0.23</td>\n",
              "      <td>0.32</td>\n",
              "      <td>8.5</td>\n",
              "      <td>0.058</td>\n",
              "      <td>47.0</td>\n",
              "      <td>186.0</td>\n",
              "      <td>0.9956</td>\n",
              "      <td>3.19</td>\n",
              "      <td>0.40</td>\n",
              "      <td>9.9</td>\n",
              "      <td>6</td>\n",
              "    </tr>\n",
              "    <tr>\n",
              "      <th>4</th>\n",
              "      <td>7.2</td>\n",
              "      <td>0.23</td>\n",
              "      <td>0.32</td>\n",
              "      <td>8.5</td>\n",
              "      <td>0.058</td>\n",
              "      <td>47.0</td>\n",
              "      <td>186.0</td>\n",
              "      <td>0.9956</td>\n",
              "      <td>3.19</td>\n",
              "      <td>0.40</td>\n",
              "      <td>9.9</td>\n",
              "      <td>6</td>\n",
              "    </tr>\n",
              "  </tbody>\n",
              "</table>\n",
              "</div>\n",
              "      <button class=\"colab-df-convert\" onclick=\"convertToInteractive('df-ee86fa70-5c95-46d9-8417-2f3b02034af6')\"\n",
              "              title=\"Convert this dataframe to an interactive table.\"\n",
              "              style=\"display:none;\">\n",
              "        \n",
              "  <svg xmlns=\"http://www.w3.org/2000/svg\" height=\"24px\"viewBox=\"0 0 24 24\"\n",
              "       width=\"24px\">\n",
              "    <path d=\"M0 0h24v24H0V0z\" fill=\"none\"/>\n",
              "    <path d=\"M18.56 5.44l.94 2.06.94-2.06 2.06-.94-2.06-.94-.94-2.06-.94 2.06-2.06.94zm-11 1L8.5 8.5l.94-2.06 2.06-.94-2.06-.94L8.5 2.5l-.94 2.06-2.06.94zm10 10l.94 2.06.94-2.06 2.06-.94-2.06-.94-.94-2.06-.94 2.06-2.06.94z\"/><path d=\"M17.41 7.96l-1.37-1.37c-.4-.4-.92-.59-1.43-.59-.52 0-1.04.2-1.43.59L10.3 9.45l-7.72 7.72c-.78.78-.78 2.05 0 2.83L4 21.41c.39.39.9.59 1.41.59.51 0 1.02-.2 1.41-.59l7.78-7.78 2.81-2.81c.8-.78.8-2.07 0-2.86zM5.41 20L4 18.59l7.72-7.72 1.47 1.35L5.41 20z\"/>\n",
              "  </svg>\n",
              "      </button>\n",
              "      \n",
              "  <style>\n",
              "    .colab-df-container {\n",
              "      display:flex;\n",
              "      flex-wrap:wrap;\n",
              "      gap: 12px;\n",
              "    }\n",
              "\n",
              "    .colab-df-convert {\n",
              "      background-color: #E8F0FE;\n",
              "      border: none;\n",
              "      border-radius: 50%;\n",
              "      cursor: pointer;\n",
              "      display: none;\n",
              "      fill: #1967D2;\n",
              "      height: 32px;\n",
              "      padding: 0 0 0 0;\n",
              "      width: 32px;\n",
              "    }\n",
              "\n",
              "    .colab-df-convert:hover {\n",
              "      background-color: #E2EBFA;\n",
              "      box-shadow: 0px 1px 2px rgba(60, 64, 67, 0.3), 0px 1px 3px 1px rgba(60, 64, 67, 0.15);\n",
              "      fill: #174EA6;\n",
              "    }\n",
              "\n",
              "    [theme=dark] .colab-df-convert {\n",
              "      background-color: #3B4455;\n",
              "      fill: #D2E3FC;\n",
              "    }\n",
              "\n",
              "    [theme=dark] .colab-df-convert:hover {\n",
              "      background-color: #434B5C;\n",
              "      box-shadow: 0px 1px 3px 1px rgba(0, 0, 0, 0.15);\n",
              "      filter: drop-shadow(0px 1px 2px rgba(0, 0, 0, 0.3));\n",
              "      fill: #FFFFFF;\n",
              "    }\n",
              "  </style>\n",
              "\n",
              "      <script>\n",
              "        const buttonEl =\n",
              "          document.querySelector('#df-ee86fa70-5c95-46d9-8417-2f3b02034af6 button.colab-df-convert');\n",
              "        buttonEl.style.display =\n",
              "          google.colab.kernel.accessAllowed ? 'block' : 'none';\n",
              "\n",
              "        async function convertToInteractive(key) {\n",
              "          const element = document.querySelector('#df-ee86fa70-5c95-46d9-8417-2f3b02034af6');\n",
              "          const dataTable =\n",
              "            await google.colab.kernel.invokeFunction('convertToInteractive',\n",
              "                                                     [key], {});\n",
              "          if (!dataTable) return;\n",
              "\n",
              "          const docLinkHtml = 'Like what you see? Visit the ' +\n",
              "            '<a target=\"_blank\" href=https://colab.research.google.com/notebooks/data_table.ipynb>data table notebook</a>'\n",
              "            + ' to learn more about interactive tables.';\n",
              "          element.innerHTML = '';\n",
              "          dataTable['output_type'] = 'display_data';\n",
              "          await google.colab.output.renderOutput(dataTable, element);\n",
              "          const docLink = document.createElement('div');\n",
              "          docLink.innerHTML = docLinkHtml;\n",
              "          element.appendChild(docLink);\n",
              "        }\n",
              "      </script>\n",
              "    </div>\n",
              "  </div>\n",
              "  "
            ]
          },
          "metadata": {},
          "execution_count": 38
        }
      ],
      "source": [
        "# Take a brief look at the data\n",
        "data.head()\n"
      ],
      "id": "N2zAtETU8QlQ"
    },
    {
      "cell_type": "code",
      "execution_count": null,
      "metadata": {
        "id": "HMqjqCoB8QlS",
        "colab": {
          "base_uri": "https://localhost:8080/"
        },
        "outputId": "13e9c47a-884d-47f5-c726-55ba263a05e9"
      },
      "outputs": [
        {
          "output_type": "execute_result",
          "data": {
            "text/plain": [
              "(4898, 12)"
            ]
          },
          "metadata": {},
          "execution_count": 39
        }
      ],
      "source": [
        "# Get the dimensions of the dataframe\n",
        "data.shape\n"
      ],
      "id": "HMqjqCoB8QlS"
    },
    {
      "cell_type": "code",
      "execution_count": null,
      "metadata": {
        "id": "1QBUAFUX8QlT",
        "colab": {
          "base_uri": "https://localhost:8080/"
        },
        "outputId": "d48b6662-dd51-4057-d7ed-1156d030f438"
      },
      "outputs": [
        {
          "output_type": "execute_result",
          "data": {
            "text/plain": [
              "RangeIndex(start=0, stop=4898, step=1)"
            ]
          },
          "metadata": {},
          "execution_count": 40
        }
      ],
      "source": [
        "# Get the row names of the dataframe\n",
        "data.index\n"
      ],
      "id": "1QBUAFUX8QlT"
    },
    {
      "cell_type": "code",
      "execution_count": null,
      "metadata": {
        "id": "j3MqWiD_8QlT",
        "colab": {
          "base_uri": "https://localhost:8080/"
        },
        "outputId": "048e5a1f-2c02-4944-c2b7-efde56ebaeb6"
      },
      "outputs": [
        {
          "output_type": "execute_result",
          "data": {
            "text/plain": [
              "Index(['fixed acidity', 'volatile acidity', 'citric acid', 'residual sugar',\n",
              "       'chlorides', 'free sulfur dioxide', 'total sulfur dioxide', 'density',\n",
              "       'pH', 'sulphates', 'alcohol', 'quality'],\n",
              "      dtype='object')"
            ]
          },
          "metadata": {},
          "execution_count": 41
        }
      ],
      "source": [
        "# Get the column names of the dataframe\n",
        "data.columns\n"
      ],
      "id": "j3MqWiD_8QlT"
    },
    {
      "cell_type": "code",
      "execution_count": null,
      "metadata": {
        "id": "Odp5luIz8QlU",
        "colab": {
          "base_uri": "https://localhost:8080/"
        },
        "outputId": "3a7a02ef-50b7-4e94-e2cb-93813ba7da58"
      },
      "outputs": [
        {
          "output_type": "stream",
          "name": "stdout",
          "text": [
            "<class 'pandas.core.frame.DataFrame'>\n",
            "RangeIndex: 4898 entries, 0 to 4897\n",
            "Data columns (total 12 columns):\n",
            " #   Column                Non-Null Count  Dtype  \n",
            "---  ------                --------------  -----  \n",
            " 0   fixed acidity         4898 non-null   float64\n",
            " 1   volatile acidity      4898 non-null   float64\n",
            " 2   citric acid           4898 non-null   float64\n",
            " 3   residual sugar        4898 non-null   float64\n",
            " 4   chlorides             4898 non-null   float64\n",
            " 5   free sulfur dioxide   4898 non-null   float64\n",
            " 6   total sulfur dioxide  4898 non-null   float64\n",
            " 7   density               4898 non-null   float64\n",
            " 8   pH                    4898 non-null   float64\n",
            " 9   sulphates             4898 non-null   float64\n",
            " 10  alcohol               4898 non-null   float64\n",
            " 11  quality               4898 non-null   int64  \n",
            "dtypes: float64(11), int64(1)\n",
            "memory usage: 459.3 KB\n"
          ]
        }
      ],
      "source": [
        "# Look at basic information about the dataframe\n",
        "data.info()\n"
      ],
      "id": "Odp5luIz8QlU"
    },
    {
      "cell_type": "markdown",
      "source": [
        "# **Observations from Task 1**\n",
        "\n",
        "There are 4898 rows and 12 columns in the data.Each row contains the details of the types of acids present in white-wine and the quality\n",
        "\n",
        "The features in the data set are:\n",
        "\n",
        "* Different acids and their Quality"
      ],
      "metadata": {
        "id": "Ld2gmOle185d"
      },
      "id": "Ld2gmOle185d"
    },
    {
      "cell_type": "markdown",
      "source": [
        "# **Task 2** - View the distributions of the various features in the data set and calculate their central tendencies\n",
        "\n",
        "We will now look at the distributions of the various features in the data set\n",
        "\n",
        "We will also calculate appropriate measures of central tendency for these features"
      ],
      "metadata": {
        "id": "-x1OYF4j2K4T"
      },
      "id": "-x1OYF4j2K4T"
    },
    {
      "cell_type": "code",
      "execution_count": null,
      "metadata": {
        "id": "JT7v9ldI8QlV",
        "colab": {
          "base_uri": "https://localhost:8080/",
          "height": 404
        },
        "outputId": "3a1e018c-68dd-4de7-e0bb-5541fb14732b"
      },
      "outputs": [
        {
          "output_type": "display_data",
          "data": {
            "text/plain": [
              "<Figure size 792x432 with 1 Axes>"
            ],
            "image/png": "[encoded data removed]"
          },
          "metadata": {
            "needs_background": "light"
          }
        }
      ],
      "source": [
        "# Create a histogram of the \"Fixed acidity\" feature\n",
        "\n",
        "plt.figure(figsize = (11,6))\n",
        "\n",
        "sns.histplot(data = data ,x = 'fixed acidity', color = 'orange', \n",
        "             edgecolor = 'linen', alpha = 0.5, bins = 5)\n",
        "\n",
        "plt.title(\"Histogram of Fixed Acidity\")                         \n",
        "plt.xlabel('Fixed Acidity')                         \n",
        "plt.ylabel('Count')\n",
        "plt.show()"
      ],
      "id": "JT7v9ldI8QlV"
    },
    {
      "cell_type": "markdown",
      "source": [
        "**Observations**\n",
        "\n",
        "We observe that the histogram is normally distributed.\n",
        "\n",
        "The maximum count of values for fixed acidity lies in between 6 to 8."
      ],
      "metadata": {
        "id": "RTchMc3jqMdC"
      },
      "id": "RTchMc3jqMdC"
    },
    {
      "cell_type": "markdown",
      "source": [
        "Let's see the measures of central tendency in working!\n",
        "\n",
        "1. Mean\n",
        "2. Median\n",
        "3. Mode"
      ],
      "metadata": {
        "id": "FGbdDX72cRNN"
      },
      "id": "FGbdDX72cRNN"
    },
    {
      "cell_type": "markdown",
      "source": [
        "![](https://math.pppst.com/mean_median.gif)"
      ],
      "metadata": {
        "id": "mdCtJKhmakZ-"
      },
      "id": "mdCtJKhmakZ-"
    },
    {
      "cell_type": "code",
      "execution_count": null,
      "metadata": {
        "id": "ycAM7RKn8QlV",
        "colab": {
          "base_uri": "https://localhost:8080/"
        },
        "outputId": "84cd0bf6-d8ec-4502-a189-da0649727e82"
      },
      "outputs": [
        {
          "output_type": "execute_result",
          "data": {
            "text/plain": [
              "6.85"
            ]
          },
          "metadata": {},
          "execution_count": 45
        }
      ],
      "source": [
        "# Calculate the mean of \"fixed acidity\" feature\n",
        "\n",
        "round(data['fixed acidity'].mean(),2)"
      ],
      "id": "ycAM7RKn8QlV"
    },
    {
      "cell_type": "code",
      "execution_count": null,
      "metadata": {
        "id": "X0key32L8QlV",
        "colab": {
          "base_uri": "https://localhost:8080/"
        },
        "outputId": "bebed229-42fe-4615-d7df-c3355ae29af5"
      },
      "outputs": [
        {
          "output_type": "execute_result",
          "data": {
            "text/plain": [
              "6.8"
            ]
          },
          "metadata": {},
          "execution_count": 46
        }
      ],
      "source": [
        "# Calculate the median of \"fixed acidity\" feature\n",
        "\n",
        "data['fixed acidity'].median()\n"
      ],
      "id": "X0key32L8QlV"
    },
    {
      "cell_type": "code",
      "execution_count": null,
      "metadata": {
        "id": "n_rdlvky8QlW",
        "colab": {
          "base_uri": "https://localhost:8080/",
          "height": 404
        },
        "outputId": "6684d937-27b7-4797-810d-2d65ef21ec0c"
      },
      "outputs": [
        {
          "output_type": "display_data",
          "data": {
            "text/plain": [
              "<Figure size 792x432 with 1 Axes>"
            ],
            "image/png": "[encoded data removed]"
          },
          "metadata": {
            "needs_background": "light"
          }
        }
      ],
      "source": [
        "# Create a histogram of the \"fixed acidity\" feature and also show the mean and the median\n",
        "\n",
        "plt.figure(figsize = (11,6))\n",
        "\n",
        "sns.histplot(data = data ,x = 'fixed acidity', color = 'orange', \n",
        "             edgecolor = 'linen', alpha = 0.5, bins = 5)\n",
        "\n",
        "plt.title(\"Histogram of Fixed Acidity\")                         \n",
        "plt.xlabel('Fixed Acidity')                         \n",
        "plt.ylabel('Count')\n",
        "plt.vlines(data['fixed acidity'].mean(), ymin = 0, ymax = 4000, colors='blue', label='Mean')\n",
        "plt.vlines(data['fixed acidity'].median(), ymin = 0, ymax = 4000, colors='red', label='Median')\n",
        "plt.legend()\n",
        "plt.show()\n"
      ],
      "id": "n_rdlvky8QlW"
    },
    {
      "cell_type": "markdown",
      "source": [
        "**Observations**\n",
        "\n",
        "We can see that mean and median are clear representative of the data.\n",
        "\n",
        "Mean and median are very close to each other.\n",
        "\n",
        "We can choose either of the parameters say mean as the measure of central tendency."
      ],
      "metadata": {
        "id": "c9fHJxHcqaoG"
      },
      "id": "c9fHJxHcqaoG"
    },
    {
      "cell_type": "code",
      "execution_count": null,
      "metadata": {
        "id": "FL7paEab8QlW",
        "colab": {
          "base_uri": "https://localhost:8080/",
          "height": 404
        },
        "outputId": "5e06ea60-02e3-488a-aa25-c9e39c122e6c"
      },
      "outputs": [
        {
          "output_type": "display_data",
          "data": {
            "text/plain": [
              "<Figure size 792x432 with 1 Axes>"
            ],
            "image/png": "[encoded data removed]"
          },
          "metadata": {
            "needs_background": "light"
          }
        }
      ],
      "source": [
        "# Create a histogram of the \"volatile acidity\" feature\n",
        "\n",
        "plt.figure(figsize = (11,6))\n",
        "\n",
        "sns.histplot(data = data ,x = 'volatile acidity', color = 'green', \n",
        "             edgecolor = 'linen', alpha = 0.5, bins = 5)\n",
        "\n",
        "plt.title(\"Histogram of Volatile Acidity\")                         \n",
        "plt.xlabel('Volatile Acidity')                         \n",
        "plt.ylabel('Count')\n",
        "plt.show()\n"
      ],
      "id": "FL7paEab8QlW"
    },
    {
      "cell_type": "markdown",
      "source": [
        "**Observations**\n",
        "\n",
        "We observe that this histogram is not well distributed, it is **skewed** a little towards the right.\n",
        "\n",
        "As we have seen skewness, therefore we can check the distribution using distplot function."
      ],
      "metadata": {
        "id": "U7kDQtUDqkCX"
      },
      "id": "U7kDQtUDqkCX"
    },
    {
      "cell_type": "markdown",
      "source": [
        "*Do you guys know skewness?*\n",
        "\n",
        "No need to worry, we are here! Let's tackle the skewness together."
      ],
      "metadata": {
        "id": "XLVSin-OdIjw"
      },
      "id": "XLVSin-OdIjw"
    },
    {
      "cell_type": "markdown",
      "source": [
        "![](https://th.bing.com/th/id/OIP.Ugu0QJrmFX7AaKhnEL_E-gHaEK?w=306&h=180&c=7&r=0&o=5&dpr=1.25&pid=1.7)"
      ],
      "metadata": {
        "id": "2UO9Tw2GdFhy"
      },
      "id": "2UO9Tw2GdFhy"
    },
    {
      "cell_type": "markdown",
      "source": [
        "**Skewness:** Some distributions of data, such as the bell curve or normal distribution, are symmetric. This means that the right and the left of the distribution are perfect mirror images of one another. Not every distribution of data is symmetric. Sets of data that are not symmetric are said to be asymmetric. The measure of how asymmetric a distribution can be is called skewness.\n",
        "\n",
        "\n",
        "The mean, median and mode are all measures of the center of a set of data. The skewness of the data can be determined by how these quantities are related to one another.\n",
        "\n",
        "* If Skewness (S) = 0, then the distribution is normally distributed.\n",
        "\n",
        "* If Skewness (S) > 0, then the distribution is positively skewed.\n",
        "\n",
        "* If Skewness (S) < 0, then the distribution is negatively skewed.\n"
      ],
      "metadata": {
        "id": "6XF0GpVCX5zP"
      },
      "id": "6XF0GpVCX5zP"
    },
    {
      "cell_type": "code",
      "source": [
        "# Plot distplot using 'Volatile acidity' feature\n",
        "\n",
        "plt.figure(figsize = (11,6))\n",
        "\n",
        "sns.distplot(data['volatile acidity'], color = 'blue')\n",
        "\n",
        "plt.title(\"Distplot of Volatile Acidity\")                         \n",
        "plt.xlabel('Volatile Acidity')                         \n",
        "plt.ylabel('Density')\n",
        "plt.show()"
      ],
      "metadata": {
        "id": "_2l-9VPMYF5-",
        "colab": {
          "base_uri": "https://localhost:8080/",
          "height": 459
        },
        "outputId": "2b64af6e-c05a-40f1-b045-8490707466c4"
      },
      "id": "_2l-9VPMYF5-",
      "execution_count": null,
      "outputs": [
        {
          "output_type": "stream",
          "name": "stderr",
          "text": [
            "/usr/local/lib/python3.8/dist-packages/seaborn/distributions.py:2619: FutureWarning: `distplot` is a deprecated function and will be removed in a future version. Please adapt your code to use either `displot` (a figure-level function with similar flexibility) or `histplot` (an axes-level function for histograms).\n",
            "  warnings.warn(msg, FutureWarning)\n"
          ]
        },
        {
          "output_type": "display_data",
          "data": {
            "text/plain": [
              "<Figure size 792x432 with 1 Axes>"
            ],
            "image/png": "[encoded data removed]"
          },
          "metadata": {
            "needs_background": "light"
          }
        }
      ]
    },
    {
      "cell_type": "markdown",
      "source": [
        "Observation:\n",
        "\n",
        "The above plot shows the normal distribution."
      ],
      "metadata": {
        "id": "Qrd1aX5FeRkN"
      },
      "id": "Qrd1aX5FeRkN"
    },
    {
      "cell_type": "markdown",
      "source": [
        "The normal distribution is described by the mean and the standard deviation.\n",
        "\n",
        "The normal distribution is often referred to as a 'bell curve' because of it's shape:\n",
        "\n",
        "* The median and mean are equal\n",
        "* It has only one mode\n",
        "* It is symmetric, meaning it decreases the same amount on the left and the right of the centre"
      ],
      "metadata": {
        "id": "fKQHRLl5YUeu"
      },
      "id": "fKQHRLl5YUeu"
    },
    {
      "cell_type": "markdown",
      "source": [
        "We can calculate skewness too using skew() function in python.\n"
      ],
      "metadata": {
        "id": "g9GDWBxhYZk8"
      },
      "id": "g9GDWBxhYZk8"
    },
    {
      "cell_type": "code",
      "source": [
        "# Calculate skewness of 'Volatile Acidity'\n",
        "\n",
        "data['volatile acidity'].skew()\n"
      ],
      "metadata": {
        "id": "1mb1BVSsYdnM",
        "colab": {
          "base_uri": "https://localhost:8080/"
        },
        "outputId": "eb753299-09b7-46b3-e1d4-44b38bf8d02e"
      },
      "id": "1mb1BVSsYdnM",
      "execution_count": null,
      "outputs": [
        {
          "output_type": "execute_result",
          "data": {
            "text/plain": [
              "1.5769795029952025"
            ]
          },
          "metadata": {},
          "execution_count": 51
        }
      ]
    },
    {
      "cell_type": "markdown",
      "source": [
        "**Observation**\n",
        "\n",
        "We can clearly see that the skewness value is greater than 1, hence it is positively skewed."
      ],
      "metadata": {
        "id": "4kddNbWJYw2m"
      },
      "id": "4kddNbWJYw2m"
    },
    {
      "cell_type": "code",
      "execution_count": null,
      "metadata": {
        "id": "Wyh0nUaI8QlW",
        "colab": {
          "base_uri": "https://localhost:8080/"
        },
        "outputId": "0bae813d-9c6e-436f-dda5-47829229e6ff"
      },
      "outputs": [
        {
          "output_type": "execute_result",
          "data": {
            "text/plain": [
              "0.27824111882400976"
            ]
          },
          "metadata": {},
          "execution_count": 52
        }
      ],
      "source": [
        "# Calculate the mean \"Volatile Acidity\" feature\n",
        "\n",
        "data['volatile acidity'].mean()\n"
      ],
      "id": "Wyh0nUaI8QlW"
    },
    {
      "cell_type": "code",
      "execution_count": null,
      "metadata": {
        "id": "ZArYWEgh8QlX",
        "colab": {
          "base_uri": "https://localhost:8080/"
        },
        "outputId": "67fce83f-08cc-4652-eb64-a4641ec31f92"
      },
      "outputs": [
        {
          "output_type": "execute_result",
          "data": {
            "text/plain": [
              "0.26"
            ]
          },
          "metadata": {},
          "execution_count": 53
        }
      ],
      "source": [
        "# Calculate the median \"Volatile Acidity\" feature\n",
        "\n",
        "data['volatile acidity'].median()\n"
      ],
      "id": "ZArYWEgh8QlX"
    },
    {
      "cell_type": "code",
      "execution_count": null,
      "metadata": {
        "id": "riNO_6-x8QlX",
        "colab": {
          "base_uri": "https://localhost:8080/",
          "height": 404
        },
        "outputId": "e02bad26-8bb2-4e4a-d394-7590b163304f"
      },
      "outputs": [
        {
          "output_type": "display_data",
          "data": {
            "text/plain": [
              "<Figure size 792x432 with 1 Axes>"
            ],
            "image/png": "[encoded data removed]"
          },
          "metadata": {
            "needs_background": "light"
          }
        }
      ],
      "source": [
        "# Create a histogram of the \"Volatile Acidity\" feature and also show the mean and the median\n",
        "\n",
        "plt.figure(figsize = (11,6))\n",
        "\n",
        "sns.histplot(data = data ,x = 'volatile acidity', color = 'green', \n",
        "             edgecolor = 'linen', alpha = 0.5, bins = 5)\n",
        "\n",
        "plt.title(\"Histogram of Volatile Acidity\")                         \n",
        "plt.xlabel('Volatile Acidity')                         \n",
        "plt.ylabel('Density')\n",
        "plt.vlines(data['volatile acidity'].mean(), ymin = 0, ymax = 4000, colors='blue', label='Mean')\n",
        "plt.vlines(data['volatile acidity'].median(), ymin = 0, ymax = 4000, colors='red', label='Median')\n",
        "plt.legend()\n",
        "plt.show()\n"
      ],
      "id": "riNO_6-x8QlX"
    },
    {
      "cell_type": "markdown",
      "source": [
        "**Observations**\n",
        "\n",
        "The mean and the median are close to each other and the difference between them is very small.\n",
        "\n",
        "We can safely choose the mean as the measure of the central tendency here."
      ],
      "metadata": {
        "id": "6dqgxGNSqr0U"
      },
      "id": "6dqgxGNSqr0U"
    },
    {
      "cell_type": "code",
      "source": [
        "# Create a histogram of the \"citric acid\" feature\n",
        "\n",
        "plt.figure(figsize = (11,6))\n",
        "\n",
        "sns.histplot(data = data ,x = 'citric acid', color = 'red', \n",
        "             edgecolor = 'linen', alpha = 0.5, bins = 5)\n",
        "\n",
        "plt.title(\"Histogram of Citric Acidity\")                         \n",
        "plt.xlabel('Citric Acidity')                         \n",
        "plt.ylabel('Count')\n",
        "plt.show()\n"
      ],
      "metadata": {
        "id": "crMq9GqBBtSQ",
        "colab": {
          "base_uri": "https://localhost:8080/",
          "height": 404
        },
        "outputId": "fc795a9e-cf7f-47de-9311-faa3477e6719"
      },
      "id": "crMq9GqBBtSQ",
      "execution_count": null,
      "outputs": [
        {
          "output_type": "display_data",
          "data": {
            "text/plain": [
              "<Figure size 792x432 with 1 Axes>"
            ],
            "image/png": "[encoded data removed]"
          },
          "metadata": {
            "needs_background": "light"
          }
        }
      ]
    },
    {
      "cell_type": "markdown",
      "source": [
        "**Observation**\n",
        "\n",
        "We observe that this histogram is not well distributed, it is skewed a little towards the right."
      ],
      "metadata": {
        "id": "a6CioPXwq-Hw"
      },
      "id": "a6CioPXwq-Hw"
    },
    {
      "cell_type": "code",
      "source": [
        "# Calculate the mean \"Citric Acid\" feature\n",
        "\n",
        "data['citric acid'].mean()\n"
      ],
      "metadata": {
        "id": "6GNcYji6CBBR",
        "colab": {
          "base_uri": "https://localhost:8080/"
        },
        "outputId": "cb58d43a-7c42-4132-ff2e-5886734ed601"
      },
      "id": "6GNcYji6CBBR",
      "execution_count": null,
      "outputs": [
        {
          "output_type": "execute_result",
          "data": {
            "text/plain": [
              "0.33419150673744386"
            ]
          },
          "metadata": {},
          "execution_count": 56
        }
      ]
    },
    {
      "cell_type": "code",
      "source": [
        "# Calculate the median \"Citric Acid\" feature\n",
        "\n",
        "data['citric acid'].median()\n"
      ],
      "metadata": {
        "id": "7vRkaLuHCIdg",
        "colab": {
          "base_uri": "https://localhost:8080/"
        },
        "outputId": "38c1a7ae-08b8-4948-dd45-7da9cf92dbc7"
      },
      "id": "7vRkaLuHCIdg",
      "execution_count": null,
      "outputs": [
        {
          "output_type": "execute_result",
          "data": {
            "text/plain": [
              "0.32"
            ]
          },
          "metadata": {},
          "execution_count": 57
        }
      ]
    },
    {
      "cell_type": "code",
      "source": [
        "# Create a histogram of the \"Citric Acid\" feature and also show the mean and the median\n",
        "\n",
        "plt.figure(figsize = (11,6))\n",
        "\n",
        "sns.histplot(data = data ,x = 'citric acid', color = 'red', \n",
        "             edgecolor = 'linen', alpha = 0.5, bins = 5)\n",
        "\n",
        "plt.title(\"Histogram of Citric Acidity\")                         \n",
        "plt.xlabel('Citric Acidity')                         \n",
        "plt.ylabel('Count')\n",
        "plt.vlines(data['citric acid'].mean(), ymin = 0, ymax = 4000, colors='blue', label='Mean')\n",
        "plt.vlines(data['citric acid'].median(), ymin = 0, ymax = 4000, colors='red', label='Median')\n",
        "plt.legend()\n",
        "plt.show()\n"
      ],
      "metadata": {
        "id": "ANZDfoVJCPcc",
        "colab": {
          "base_uri": "https://localhost:8080/",
          "height": 404
        },
        "outputId": "1ada3b22-ab9c-4e5e-d71b-055200cec53b"
      },
      "id": "ANZDfoVJCPcc",
      "execution_count": null,
      "outputs": [
        {
          "output_type": "display_data",
          "data": {
            "text/plain": [
              "<Figure size 792x432 with 1 Axes>"
            ],
            "image/png": "[encoded data removed]"
          },
          "metadata": {
            "needs_background": "light"
          }
        }
      ]
    },
    {
      "cell_type": "markdown",
      "source": [
        "**Observation**\n",
        "\n",
        "The mean and the median are close to each other and the difference between them is very small.\n",
        "\n",
        "We can safely choose the mean as the measure of the central tendency here."
      ],
      "metadata": {
        "id": "3bBbywkSrDHn"
      },
      "id": "3bBbywkSrDHn"
    },
    {
      "cell_type": "code",
      "source": [
        "# Calculate distplot using 'Citric Acidity' feature\n",
        "\n",
        "plt.figure(figsize = (11,6))\n",
        "\n",
        "sns.distplot(data['citric acid'], color = 'blue')\n",
        "\n",
        "plt.title(\"Distplot of Citric Acid\")                         \n",
        "plt.xlabel('Citric Acid')                         \n",
        "plt.ylabel('Density')\n",
        "plt.show()\n"
      ],
      "metadata": {
        "id": "FmQP7KcQ2Vxz",
        "colab": {
          "base_uri": "https://localhost:8080/",
          "height": 459
        },
        "outputId": "7722c23d-4e46-4fda-d535-97a73d0c3791"
      },
      "id": "FmQP7KcQ2Vxz",
      "execution_count": null,
      "outputs": [
        {
          "output_type": "stream",
          "name": "stderr",
          "text": [
            "/usr/local/lib/python3.8/dist-packages/seaborn/distributions.py:2619: FutureWarning: `distplot` is a deprecated function and will be removed in a future version. Please adapt your code to use either `displot` (a figure-level function with similar flexibility) or `histplot` (an axes-level function for histograms).\n",
            "  warnings.warn(msg, FutureWarning)\n"
          ]
        },
        {
          "output_type": "display_data",
          "data": {
            "text/plain": [
              "<Figure size 792x432 with 1 Axes>"
            ],
            "image/png": "[encoded data removed]"
          },
          "metadata": {
            "needs_background": "light"
          }
        }
      ]
    },
    {
      "cell_type": "markdown",
      "source": [
        "Same procedure we can follow for other numerical columns to get the mean, median (parameters of central tendency)\n"
      ],
      "metadata": {
        "id": "pGCgQBgz3JT3"
      },
      "id": "pGCgQBgz3JT3"
    },
    {
      "cell_type": "code",
      "execution_count": null,
      "metadata": {
        "id": "06S-xD2n8QlX",
        "colab": {
          "base_uri": "https://localhost:8080/",
          "height": 459
        },
        "outputId": "935dbef5-afd2-4261-80c4-3edfc896abd3"
      },
      "outputs": [
        {
          "output_type": "stream",
          "name": "stderr",
          "text": [
            "/usr/local/lib/python3.8/dist-packages/seaborn/_decorators.py:36: FutureWarning: Pass the following variable as a keyword arg: x. From version 0.12, the only valid positional argument will be `data`, and passing other arguments without an explicit keyword will result in an error or misinterpretation.\n",
            "  warnings.warn(\n"
          ]
        },
        {
          "output_type": "display_data",
          "data": {
            "text/plain": [
              "<Figure size 792x432 with 1 Axes>"
            ],
            "image/png": "[encoded data removed]"
          },
          "metadata": {
            "needs_background": "light"
          }
        }
      ],
      "source": [
        "# Create a count plot of the \"Quality\" feature\n",
        "\n",
        "plt.figure(figsize = (11,6))\n",
        "\n",
        "sns.countplot(data['quality'])\n",
        "\n",
        "plt.title(\"Count Plot of Quality\")                         \n",
        "plt.xlabel('Quality')                         \n",
        "plt.ylabel('Count')\n",
        "plt.show()\n"
      ],
      "id": "06S-xD2n8QlX"
    },
    {
      "cell_type": "markdown",
      "source": [
        "**Observation**\n",
        "\n",
        "It is quite clear from the count plot that the 6 is the highest count of quality , whereas 9 is negligible."
      ],
      "metadata": {
        "id": "7QySS8tCrKxP"
      },
      "id": "7QySS8tCrKxP"
    },
    {
      "cell_type": "code",
      "execution_count": null,
      "metadata": {
        "id": "isnfb3008QlX",
        "colab": {
          "base_uri": "https://localhost:8080/"
        },
        "outputId": "ca8fa5bb-841c-443c-e17f-2aa2bb2d277f"
      },
      "outputs": [
        {
          "output_type": "execute_result",
          "data": {
            "text/plain": [
              "6    2198\n",
              "5    1457\n",
              "7     880\n",
              "8     175\n",
              "4     163\n",
              "3      20\n",
              "9       5\n",
              "Name: quality, dtype: int64"
            ]
          },
          "metadata": {},
          "execution_count": 61
        }
      ],
      "source": [
        "# Count the number of occurences of different categories of the \"Quality\" feature\n",
        "\n",
        "data['quality'].value_counts()\n"
      ],
      "id": "isnfb3008QlX"
    },
    {
      "cell_type": "code",
      "execution_count": null,
      "metadata": {
        "id": "aXqKDasJ8QlY",
        "colab": {
          "base_uri": "https://localhost:8080/"
        },
        "outputId": "6c457d31-21a4-40cb-e431-27065392e6ee"
      },
      "outputs": [
        {
          "output_type": "execute_result",
          "data": {
            "text/plain": [
              "6"
            ]
          },
          "metadata": {},
          "execution_count": 62
        }
      ],
      "source": [
        "# Calculate the mode of the \"quality\" feature\n",
        "\n",
        "data['quality'].value_counts().index[0]\n"
      ],
      "id": "aXqKDasJ8QlY"
    },
    {
      "cell_type": "markdown",
      "source": [
        "# **Observations from Task 2**\n",
        "\n",
        "We saw the distributions of the various features in the data set using appropriate plots\n",
        "\n",
        "We calculated central tendency measures like mean, median and mode for the various features\n",
        "\n",
        "The mean and the median for all the above features were similar, so we can choose the mean in these cases\n",
        "\n",
        "The mode of the \"Quality\" feature can be chosen as a representative value"
      ],
      "metadata": {
        "id": "GjgDaHWv38zY"
      },
      "id": "GjgDaHWv38zY"
    },
    {
      "cell_type": "markdown",
      "source": [
        "# **Task 3** - Create a new Pandas Series that contains the details of the acid types for a quality\n",
        "\n",
        "We will now create a Pandas Series that contains the representative values for each of the features"
      ],
      "metadata": {
        "id": "Ew-3c07M4GCW"
      },
      "id": "Ew-3c07M4GCW"
    },
    {
      "cell_type": "code",
      "execution_count": null,
      "metadata": {
        "id": "NagKtHe98QlY"
      },
      "outputs": [],
      "source": [
        "# Create a new Pandas Series called \"rep_acid\" that contains the details of the representative quality for the different types of acids\n",
        "\n",
        "rep_acid = pd.Series(index = ['fixed acidity','volatile acidity','citric acid','quality'],\n",
        "                     data = [data['fixed acidity'].mean(),data['volatile acidity'].mean(),\n",
        "                             data['citric acid'].mean(),data['quality'].value_counts().index[0]])"
      ],
      "id": "NagKtHe98QlY"
    },
    {
      "cell_type": "code",
      "execution_count": null,
      "metadata": {
        "id": "L0brocTz8QlY",
        "colab": {
          "base_uri": "https://localhost:8080/"
        },
        "outputId": "26ee529c-03d6-44ad-d9a9-304b35f24132"
      },
      "outputs": [
        {
          "output_type": "execute_result",
          "data": {
            "text/plain": [
              "fixed acidity       6.854788\n",
              "volatile acidity    0.278241\n",
              "citric acid         0.334192\n",
              "quality             6.000000\n",
              "dtype: float64"
            ]
          },
          "metadata": {},
          "execution_count": 64
        }
      ],
      "source": [
        "# Print the \"rep_acid\" series\n",
        "\n",
        "rep_acid"
      ],
      "id": "L0brocTz8QlY"
    },
    {
      "cell_type": "markdown",
      "source": [
        "# **Observations from Task 3**\n",
        "\n",
        "1. The representative acid for the quality is as follows:\n",
        "\n",
        "2. The mean value of the fixed acidity would be 6.854\n",
        "\n",
        "3. The mean value of the volatile acidity would be 0.2782\n",
        "\n",
        "4. The mean value of citric acid would be 0.3341\n",
        "\n",
        "5. The quality would be 6"
      ],
      "metadata": {
        "id": "lt6Keo0C4OFj"
      },
      "id": "lt6Keo0C4OFj"
    },
    {
      "cell_type": "markdown",
      "source": [
        "## **Final Conclusions**\n",
        "\n",
        "* From the given data, we can use simple visualisations to get a sense of how data are distributed.\n",
        "\n",
        "* We can use various measures of central tendency such as mean, median and mode to represent a group of observations.\n",
        "\n",
        "* The type of central tendency measure to use depends on the type and the distribution of the data"
      ],
      "metadata": {
        "id": "oePhOJXbrS2m"
      },
      "id": "oePhOJXbrS2m"
    }
  ],
  "metadata": {
    "kernelspec": {
      "display_name": "Python 3",
      "language": "python",
      "name": "python3"
    },
    "language_info": {
      "codemirror_mode": {
        "name": "ipython",
        "version": 3
      },
      "file_extension": ".py",
      "mimetype": "text/x-python",
      "name": "python",
      "nbconvert_exporter": "python",
      "pygments_lexer": "ipython3",
      "version": "3.8.5"
    },
    "colab": {
      "provenance": []
    }
  },
  "nbformat": 4,
  "nbformat_minor": 5
}